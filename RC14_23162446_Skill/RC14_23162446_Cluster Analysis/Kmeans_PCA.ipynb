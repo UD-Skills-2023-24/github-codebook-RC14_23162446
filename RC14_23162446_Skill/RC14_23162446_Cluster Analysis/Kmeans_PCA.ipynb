{
 "cells": [
  {
   "cell_type": "markdown",
   "metadata": {},
   "source": [
    "## Libraries"
   ]
  },
  {
   "cell_type": "code",
   "execution_count": 1,
   "metadata": {},
   "outputs": [],
   "source": [
    "import pandas as pd\n",
    "import numpy as np\n",
    "import seaborn as sns\n",
    "import matplotlib\n",
    "%matplotlib inline\n",
    "from matplotlib import pyplot as plt"
   ]
  },
  {
   "cell_type": "markdown",
   "metadata": {},
   "source": [
    "## The Data"
   ]
  },
  {
   "cell_type": "code",
   "execution_count": 2,
   "metadata": {},
   "outputs": [
    {
     "data": {
      "text/html": [
       "<div>\n",
       "<style scoped>\n",
       "    .dataframe tbody tr th:only-of-type {\n",
       "        vertical-align: middle;\n",
       "    }\n",
       "\n",
       "    .dataframe tbody tr th {\n",
       "        vertical-align: top;\n",
       "    }\n",
       "\n",
       "    .dataframe thead th {\n",
       "        text-align: right;\n",
       "    }\n",
       "</style>\n",
       "<table border=\"1\" class=\"dataframe\">\n",
       "  <thead>\n",
       "    <tr style=\"text-align: right;\">\n",
       "      <th></th>\n",
       "      <th>id</th>\n",
       "      <th>average score buffer_None</th>\n",
       "      <th>economy activity_None</th>\n",
       "      <th>PM2.5_None</th>\n",
       "      <th>NOX_None</th>\n",
       "      <th>crime rate buffer_None</th>\n",
       "      <th>restaurant buffer_None</th>\n",
       "      <th>Supermarkets_Supermarkets</th>\n",
       "      <th>NightEconomy</th>\n",
       "      <th>HousingDensity</th>\n",
       "      <th>BuilingHeights</th>\n",
       "      <th>GreenSpace</th>\n",
       "      <th>Noise</th>\n",
       "      <th>SpaceSyntax_R3000_SpaceSyntax_Choice_R3000_None</th>\n",
       "      <th>SpaceSyntax_R3000_SpaceSyntax_Intergration_R3000_None</th>\n",
       "      <th>culture final-sum_culture sum</th>\n",
       "    </tr>\n",
       "  </thead>\n",
       "  <tbody>\n",
       "    <tr>\n",
       "      <th>0</th>\n",
       "      <td>19664</td>\n",
       "      <td>7.0</td>\n",
       "      <td>164.45817</td>\n",
       "      <td>0.25166</td>\n",
       "      <td>2.21365</td>\n",
       "      <td>109.0</td>\n",
       "      <td>NaN</td>\n",
       "      <td>1.0</td>\n",
       "      <td>605.0</td>\n",
       "      <td>0.807</td>\n",
       "      <td>15.260000</td>\n",
       "      <td>NaN</td>\n",
       "      <td>65.0</td>\n",
       "      <td>671104.0</td>\n",
       "      <td>1025.71040</td>\n",
       "      <td>0</td>\n",
       "    </tr>\n",
       "    <tr>\n",
       "      <th>1</th>\n",
       "      <td>19667</td>\n",
       "      <td>14.0</td>\n",
       "      <td>122.34972</td>\n",
       "      <td>0.44992</td>\n",
       "      <td>3.93444</td>\n",
       "      <td>212.0</td>\n",
       "      <td>NaN</td>\n",
       "      <td>NaN</td>\n",
       "      <td>480.0</td>\n",
       "      <td>0.807</td>\n",
       "      <td>4.970000</td>\n",
       "      <td>NaN</td>\n",
       "      <td>NaN</td>\n",
       "      <td>18029.0</td>\n",
       "      <td>774.96143</td>\n",
       "      <td>0</td>\n",
       "    </tr>\n",
       "    <tr>\n",
       "      <th>2</th>\n",
       "      <td>19666</td>\n",
       "      <td>7.0</td>\n",
       "      <td>121.69114</td>\n",
       "      <td>0.43419</td>\n",
       "      <td>3.84269</td>\n",
       "      <td>109.0</td>\n",
       "      <td>NaN</td>\n",
       "      <td>NaN</td>\n",
       "      <td>585.0</td>\n",
       "      <td>0.807</td>\n",
       "      <td>6.910000</td>\n",
       "      <td>NaN</td>\n",
       "      <td>NaN</td>\n",
       "      <td>157729.0</td>\n",
       "      <td>941.43817</td>\n",
       "      <td>0</td>\n",
       "    </tr>\n",
       "    <tr>\n",
       "      <th>3</th>\n",
       "      <td>19693</td>\n",
       "      <td>NaN</td>\n",
       "      <td>51.90711</td>\n",
       "      <td>0.72489</td>\n",
       "      <td>7.64058</td>\n",
       "      <td>NaN</td>\n",
       "      <td>NaN</td>\n",
       "      <td>NaN</td>\n",
       "      <td>26.0</td>\n",
       "      <td>NaN</td>\n",
       "      <td>11.803999</td>\n",
       "      <td>NaN</td>\n",
       "      <td>65.0</td>\n",
       "      <td>9494.0</td>\n",
       "      <td>708.34326</td>\n",
       "      <td>0</td>\n",
       "    </tr>\n",
       "    <tr>\n",
       "      <th>4</th>\n",
       "      <td>19692</td>\n",
       "      <td>NaN</td>\n",
       "      <td>52.36088</td>\n",
       "      <td>0.72889</td>\n",
       "      <td>7.68352</td>\n",
       "      <td>NaN</td>\n",
       "      <td>NaN</td>\n",
       "      <td>NaN</td>\n",
       "      <td>26.0</td>\n",
       "      <td>NaN</td>\n",
       "      <td>39.728430</td>\n",
       "      <td>NaN</td>\n",
       "      <td>65.0</td>\n",
       "      <td>444439.0</td>\n",
       "      <td>1068.41880</td>\n",
       "      <td>1</td>\n",
       "    </tr>\n",
       "  </tbody>\n",
       "</table>\n",
       "</div>"
      ],
      "text/plain": [
       "      id  average score buffer_None  economy activity_None  PM2.5_None  \\\n",
       "0  19664                        7.0              164.45817     0.25166   \n",
       "1  19667                       14.0              122.34972     0.44992   \n",
       "2  19666                        7.0              121.69114     0.43419   \n",
       "3  19693                        NaN               51.90711     0.72489   \n",
       "4  19692                        NaN               52.36088     0.72889   \n",
       "\n",
       "   NOX_None  crime rate buffer_None  restaurant buffer_None  \\\n",
       "0   2.21365                   109.0                     NaN   \n",
       "1   3.93444                   212.0                     NaN   \n",
       "2   3.84269                   109.0                     NaN   \n",
       "3   7.64058                     NaN                     NaN   \n",
       "4   7.68352                     NaN                     NaN   \n",
       "\n",
       "   Supermarkets_Supermarkets  NightEconomy   HousingDensity   BuilingHeights   \\\n",
       "0                        1.0         605.0             0.807        15.260000   \n",
       "1                        NaN         480.0             0.807         4.970000   \n",
       "2                        NaN         585.0             0.807         6.910000   \n",
       "3                        NaN          26.0               NaN        11.803999   \n",
       "4                        NaN          26.0               NaN        39.728430   \n",
       "\n",
       "    GreenSpace    Noise  SpaceSyntax_R3000_SpaceSyntax_Choice_R3000_None  \\\n",
       "0           NaN    65.0                                         671104.0   \n",
       "1           NaN     NaN                                          18029.0   \n",
       "2           NaN     NaN                                         157729.0   \n",
       "3           NaN    65.0                                           9494.0   \n",
       "4           NaN    65.0                                         444439.0   \n",
       "\n",
       "   SpaceSyntax_R3000_SpaceSyntax_Intergration_R3000_None  \\\n",
       "0                                         1025.71040       \n",
       "1                                          774.96143       \n",
       "2                                          941.43817       \n",
       "3                                          708.34326       \n",
       "4                                         1068.41880       \n",
       "\n",
       "   culture final-sum_culture sum  \n",
       "0                              0  \n",
       "1                              0  \n",
       "2                              0  \n",
       "3                              0  \n",
       "4                              1  "
      ]
     },
     "execution_count": 2,
     "metadata": {},
     "output_type": "execute_result"
    }
   ],
   "source": [
    "#read the dataset\n",
    "df = pd.read_csv('new_sum_K-MEANS.csv')\n",
    "df.head()"
   ]
  },
  {
   "cell_type": "code",
   "execution_count": 3,
   "metadata": {
    "scrolled": true
   },
   "outputs": [
    {
     "data": {
      "text/plain": [
       "(32440, 16)"
      ]
     },
     "execution_count": 3,
     "metadata": {},
     "output_type": "execute_result"
    }
   ],
   "source": [
    "df.shape"
   ]
  },
  {
   "cell_type": "code",
   "execution_count": 4,
   "metadata": {},
   "outputs": [],
   "source": [
    "df.fillna(0, inplace=True)"
   ]
  },
  {
   "cell_type": "code",
   "execution_count": 5,
   "metadata": {},
   "outputs": [
    {
     "name": "stdout",
     "output_type": "stream",
     "text": [
      "<class 'pandas.core.frame.DataFrame'>\n",
      "RangeIndex: 32440 entries, 0 to 32439\n",
      "Data columns (total 16 columns):\n",
      " #   Column                                                 Non-Null Count  Dtype  \n",
      "---  ------                                                 --------------  -----  \n",
      " 0   id                                                     32440 non-null  int64  \n",
      " 1   average score buffer_None                              32440 non-null  float64\n",
      " 2   economy activity_None                                  32440 non-null  float64\n",
      " 3   PM2.5_None                                             32440 non-null  float64\n",
      " 4   NOX_None                                               32440 non-null  float64\n",
      " 5   crime rate buffer_None                                 32440 non-null  float64\n",
      " 6   restaurant buffer_None                                 32440 non-null  float64\n",
      " 7   Supermarkets_Supermarkets                              32440 non-null  float64\n",
      " 8   NightEconomy                                           32440 non-null  float64\n",
      " 9    HousingDensity                                        32440 non-null  float64\n",
      " 10  BuilingHeights                                         32440 non-null  float64\n",
      " 11   GreenSpace                                            32440 non-null  float64\n",
      " 12   Noise                                                 32440 non-null  float64\n",
      " 13  SpaceSyntax_R3000_SpaceSyntax_Choice_R3000_None        32440 non-null  float64\n",
      " 14  SpaceSyntax_R3000_SpaceSyntax_Intergration_R3000_None  32440 non-null  float64\n",
      " 15  culture final-sum_culture sum                          32440 non-null  int64  \n",
      "dtypes: float64(14), int64(2)\n",
      "memory usage: 4.0 MB\n"
     ]
    }
   ],
   "source": [
    "df.info()"
   ]
  },
  {
   "cell_type": "code",
   "execution_count": 6,
   "metadata": {
    "scrolled": true
   },
   "outputs": [
    {
     "data": {
      "text/plain": [
       "Index(['id', 'average score buffer_None', 'economy activity_None',\n",
       "       'PM2.5_None', 'NOX_None', 'crime rate buffer_None',\n",
       "       'restaurant buffer_None', 'Supermarkets_Supermarkets', 'NightEconomy',\n",
       "       ' HousingDensity ', 'BuilingHeights ', ' GreenSpace ', ' Noise',\n",
       "       'SpaceSyntax_R3000_SpaceSyntax_Choice_R3000_None',\n",
       "       'SpaceSyntax_R3000_SpaceSyntax_Intergration_R3000_None',\n",
       "       'culture final-sum_culture sum'],\n",
       "      dtype='object')"
      ]
     },
     "execution_count": 6,
     "metadata": {},
     "output_type": "execute_result"
    }
   ],
   "source": [
    "df.columns"
   ]
  },
  {
   "cell_type": "markdown",
   "metadata": {},
   "source": [
    "## Clean DATA"
   ]
  },
  {
   "cell_type": "code",
   "execution_count": 7,
   "metadata": {},
   "outputs": [],
   "source": [
    "data=df[['id', 'average score buffer_None', 'economy activity_None',\n",
    "       'PM2.5_None', 'NOX_None', 'crime rate buffer_None',\n",
    "       'restaurant buffer_None', 'Supermarkets_Supermarkets', 'NightEconomy',\n",
    "       ' HousingDensity ', 'BuilingHeights ', ' GreenSpace ', ' Noise',\n",
    "       'SpaceSyntax_R3000_SpaceSyntax_Choice_R3000_None',\n",
    "       'SpaceSyntax_R3000_SpaceSyntax_Intergration_R3000_None',\n",
    "       'culture final-sum_culture sum']]"
   ]
  },
  {
   "cell_type": "code",
   "execution_count": 8,
   "metadata": {},
   "outputs": [
    {
     "data": {
      "text/plain": [
       "(32440, 16)"
      ]
     },
     "execution_count": 8,
     "metadata": {},
     "output_type": "execute_result"
    }
   ],
   "source": [
    "data.shape"
   ]
  },
  {
   "cell_type": "code",
   "execution_count": 9,
   "metadata": {},
   "outputs": [
    {
     "data": {
      "text/html": [
       "<div>\n",
       "<style scoped>\n",
       "    .dataframe tbody tr th:only-of-type {\n",
       "        vertical-align: middle;\n",
       "    }\n",
       "\n",
       "    .dataframe tbody tr th {\n",
       "        vertical-align: top;\n",
       "    }\n",
       "\n",
       "    .dataframe thead th {\n",
       "        text-align: right;\n",
       "    }\n",
       "</style>\n",
       "<table border=\"1\" class=\"dataframe\">\n",
       "  <thead>\n",
       "    <tr style=\"text-align: right;\">\n",
       "      <th></th>\n",
       "      <th>id</th>\n",
       "      <th>average score buffer_None</th>\n",
       "      <th>economy activity_None</th>\n",
       "      <th>PM2.5_None</th>\n",
       "      <th>NOX_None</th>\n",
       "      <th>crime rate buffer_None</th>\n",
       "      <th>restaurant buffer_None</th>\n",
       "      <th>Supermarkets_Supermarkets</th>\n",
       "      <th>NightEconomy</th>\n",
       "      <th>HousingDensity</th>\n",
       "      <th>BuilingHeights</th>\n",
       "      <th>GreenSpace</th>\n",
       "      <th>Noise</th>\n",
       "      <th>SpaceSyntax_R3000_SpaceSyntax_Choice_R3000_None</th>\n",
       "      <th>SpaceSyntax_R3000_SpaceSyntax_Intergration_R3000_None</th>\n",
       "      <th>culture final-sum_culture sum</th>\n",
       "    </tr>\n",
       "  </thead>\n",
       "  <tbody>\n",
       "    <tr>\n",
       "      <th>0</th>\n",
       "      <td>19664</td>\n",
       "      <td>7.0</td>\n",
       "      <td>164.45817</td>\n",
       "      <td>0.25166</td>\n",
       "      <td>2.21365</td>\n",
       "      <td>109.0</td>\n",
       "      <td>0.0</td>\n",
       "      <td>1.0</td>\n",
       "      <td>605.0</td>\n",
       "      <td>0.807</td>\n",
       "      <td>15.260000</td>\n",
       "      <td>0.0</td>\n",
       "      <td>65.0</td>\n",
       "      <td>671104.0</td>\n",
       "      <td>1025.71040</td>\n",
       "      <td>0</td>\n",
       "    </tr>\n",
       "    <tr>\n",
       "      <th>1</th>\n",
       "      <td>19667</td>\n",
       "      <td>14.0</td>\n",
       "      <td>122.34972</td>\n",
       "      <td>0.44992</td>\n",
       "      <td>3.93444</td>\n",
       "      <td>212.0</td>\n",
       "      <td>0.0</td>\n",
       "      <td>0.0</td>\n",
       "      <td>480.0</td>\n",
       "      <td>0.807</td>\n",
       "      <td>4.970000</td>\n",
       "      <td>0.0</td>\n",
       "      <td>0.0</td>\n",
       "      <td>18029.0</td>\n",
       "      <td>774.96143</td>\n",
       "      <td>0</td>\n",
       "    </tr>\n",
       "    <tr>\n",
       "      <th>2</th>\n",
       "      <td>19666</td>\n",
       "      <td>7.0</td>\n",
       "      <td>121.69114</td>\n",
       "      <td>0.43419</td>\n",
       "      <td>3.84269</td>\n",
       "      <td>109.0</td>\n",
       "      <td>0.0</td>\n",
       "      <td>0.0</td>\n",
       "      <td>585.0</td>\n",
       "      <td>0.807</td>\n",
       "      <td>6.910000</td>\n",
       "      <td>0.0</td>\n",
       "      <td>0.0</td>\n",
       "      <td>157729.0</td>\n",
       "      <td>941.43817</td>\n",
       "      <td>0</td>\n",
       "    </tr>\n",
       "    <tr>\n",
       "      <th>3</th>\n",
       "      <td>19693</td>\n",
       "      <td>0.0</td>\n",
       "      <td>51.90711</td>\n",
       "      <td>0.72489</td>\n",
       "      <td>7.64058</td>\n",
       "      <td>0.0</td>\n",
       "      <td>0.0</td>\n",
       "      <td>0.0</td>\n",
       "      <td>26.0</td>\n",
       "      <td>0.000</td>\n",
       "      <td>11.803999</td>\n",
       "      <td>0.0</td>\n",
       "      <td>65.0</td>\n",
       "      <td>9494.0</td>\n",
       "      <td>708.34326</td>\n",
       "      <td>0</td>\n",
       "    </tr>\n",
       "    <tr>\n",
       "      <th>4</th>\n",
       "      <td>19692</td>\n",
       "      <td>0.0</td>\n",
       "      <td>52.36088</td>\n",
       "      <td>0.72889</td>\n",
       "      <td>7.68352</td>\n",
       "      <td>0.0</td>\n",
       "      <td>0.0</td>\n",
       "      <td>0.0</td>\n",
       "      <td>26.0</td>\n",
       "      <td>0.000</td>\n",
       "      <td>39.728430</td>\n",
       "      <td>0.0</td>\n",
       "      <td>65.0</td>\n",
       "      <td>444439.0</td>\n",
       "      <td>1068.41880</td>\n",
       "      <td>1</td>\n",
       "    </tr>\n",
       "  </tbody>\n",
       "</table>\n",
       "</div>"
      ],
      "text/plain": [
       "      id  average score buffer_None  economy activity_None  PM2.5_None  \\\n",
       "0  19664                        7.0              164.45817     0.25166   \n",
       "1  19667                       14.0              122.34972     0.44992   \n",
       "2  19666                        7.0              121.69114     0.43419   \n",
       "3  19693                        0.0               51.90711     0.72489   \n",
       "4  19692                        0.0               52.36088     0.72889   \n",
       "\n",
       "   NOX_None  crime rate buffer_None  restaurant buffer_None  \\\n",
       "0   2.21365                   109.0                     0.0   \n",
       "1   3.93444                   212.0                     0.0   \n",
       "2   3.84269                   109.0                     0.0   \n",
       "3   7.64058                     0.0                     0.0   \n",
       "4   7.68352                     0.0                     0.0   \n",
       "\n",
       "   Supermarkets_Supermarkets  NightEconomy   HousingDensity   BuilingHeights   \\\n",
       "0                        1.0         605.0             0.807        15.260000   \n",
       "1                        0.0         480.0             0.807         4.970000   \n",
       "2                        0.0         585.0             0.807         6.910000   \n",
       "3                        0.0          26.0             0.000        11.803999   \n",
       "4                        0.0          26.0             0.000        39.728430   \n",
       "\n",
       "    GreenSpace    Noise  SpaceSyntax_R3000_SpaceSyntax_Choice_R3000_None  \\\n",
       "0           0.0    65.0                                         671104.0   \n",
       "1           0.0     0.0                                          18029.0   \n",
       "2           0.0     0.0                                         157729.0   \n",
       "3           0.0    65.0                                           9494.0   \n",
       "4           0.0    65.0                                         444439.0   \n",
       "\n",
       "   SpaceSyntax_R3000_SpaceSyntax_Intergration_R3000_None  \\\n",
       "0                                         1025.71040       \n",
       "1                                          774.96143       \n",
       "2                                          941.43817       \n",
       "3                                          708.34326       \n",
       "4                                         1068.41880       \n",
       "\n",
       "   culture final-sum_culture sum  \n",
       "0                              0  \n",
       "1                              0  \n",
       "2                              0  \n",
       "3                              0  \n",
       "4                              1  "
      ]
     },
     "execution_count": 9,
     "metadata": {},
     "output_type": "execute_result"
    }
   ],
   "source": [
    "data.head()"
   ]
  },
  {
   "cell_type": "code",
   "execution_count": 10,
   "metadata": {},
   "outputs": [
    {
     "data": {
      "text/plain": [
       "False"
      ]
     },
     "execution_count": 10,
     "metadata": {},
     "output_type": "execute_result"
    }
   ],
   "source": [
    "data.isnull().values.any()"
   ]
  },
  {
   "cell_type": "code",
   "execution_count": 11,
   "metadata": {},
   "outputs": [],
   "source": [
    "datalocation=df[['id']]"
   ]
  },
  {
   "cell_type": "code",
   "execution_count": 12,
   "metadata": {
    "scrolled": true
   },
   "outputs": [
    {
     "data": {
      "text/html": [
       "<div>\n",
       "<style scoped>\n",
       "    .dataframe tbody tr th:only-of-type {\n",
       "        vertical-align: middle;\n",
       "    }\n",
       "\n",
       "    .dataframe tbody tr th {\n",
       "        vertical-align: top;\n",
       "    }\n",
       "\n",
       "    .dataframe thead th {\n",
       "        text-align: right;\n",
       "    }\n",
       "</style>\n",
       "<table border=\"1\" class=\"dataframe\">\n",
       "  <thead>\n",
       "    <tr style=\"text-align: right;\">\n",
       "      <th></th>\n",
       "      <th>id</th>\n",
       "    </tr>\n",
       "  </thead>\n",
       "  <tbody>\n",
       "    <tr>\n",
       "      <th>0</th>\n",
       "      <td>19664</td>\n",
       "    </tr>\n",
       "    <tr>\n",
       "      <th>1</th>\n",
       "      <td>19667</td>\n",
       "    </tr>\n",
       "    <tr>\n",
       "      <th>2</th>\n",
       "      <td>19666</td>\n",
       "    </tr>\n",
       "    <tr>\n",
       "      <th>3</th>\n",
       "      <td>19693</td>\n",
       "    </tr>\n",
       "    <tr>\n",
       "      <th>4</th>\n",
       "      <td>19692</td>\n",
       "    </tr>\n",
       "  </tbody>\n",
       "</table>\n",
       "</div>"
      ],
      "text/plain": [
       "      id\n",
       "0  19664\n",
       "1  19667\n",
       "2  19666\n",
       "3  19693\n",
       "4  19692"
      ]
     },
     "execution_count": 12,
     "metadata": {},
     "output_type": "execute_result"
    }
   ],
   "source": [
    "datalocation.head()"
   ]
  },
  {
   "cell_type": "code",
   "execution_count": 19,
   "metadata": {},
   "outputs": [],
   "source": [
    "\n",
    "# 2. 对数据进行归一化处理（假设你想对所有列进行归一化）\n",
    "normalized_df = data.copy()\n",
    "for column in data.columns:\n",
    "    if normalized_df[column].dtype != 'object':  # 忽略非数值列\n",
    "        max_value = normalized_df[column].max()\n",
    "        normalized_df[column] = normalized_df[column] / max_value\n",
    "\n",
    "\n",
    "import os\n",
    "save_dir = r'C:\\Users\\15809\\Desktop\\data'  # Creat a data folder on the desktop\n",
    "normalized_csv_file = os.path.join(save_dir, 'normalized_data.csv')\n",
    "# 3. 将归一化后的数据保存回CSV文件\n",
    "normalized_df.to_csv(normalized_csv_file, index=False)"
   ]
  },
  {
   "cell_type": "code",
   "execution_count": 22,
   "metadata": {
    "scrolled": true
   },
   "outputs": [
    {
     "data": {
      "text/html": [
       "<div>\n",
       "<style scoped>\n",
       "    .dataframe tbody tr th:only-of-type {\n",
       "        vertical-align: middle;\n",
       "    }\n",
       "\n",
       "    .dataframe tbody tr th {\n",
       "        vertical-align: top;\n",
       "    }\n",
       "\n",
       "    .dataframe thead th {\n",
       "        text-align: right;\n",
       "    }\n",
       "</style>\n",
       "<table border=\"1\" class=\"dataframe\">\n",
       "  <thead>\n",
       "    <tr style=\"text-align: right;\">\n",
       "      <th></th>\n",
       "      <th>id</th>\n",
       "      <th>average score buffer_None</th>\n",
       "      <th>economy activity_None</th>\n",
       "      <th>PM2.5_None</th>\n",
       "      <th>NOX_None</th>\n",
       "      <th>crime rate buffer_None</th>\n",
       "      <th>restaurant buffer_None</th>\n",
       "      <th>Supermarkets_Supermarkets</th>\n",
       "      <th>NightEconomy</th>\n",
       "      <th>HousingDensity</th>\n",
       "      <th>BuilingHeights</th>\n",
       "      <th>GreenSpace</th>\n",
       "      <th>Noise</th>\n",
       "      <th>SpaceSyntax_R3000_SpaceSyntax_Choice_R3000_None</th>\n",
       "      <th>SpaceSyntax_R3000_SpaceSyntax_Intergration_R3000_None</th>\n",
       "      <th>culture final-sum_culture sum</th>\n",
       "    </tr>\n",
       "  </thead>\n",
       "  <tbody>\n",
       "    <tr>\n",
       "      <th>0</th>\n",
       "      <td>0.524373</td>\n",
       "      <td>0.233333</td>\n",
       "      <td>0.427862</td>\n",
       "      <td>0.047964</td>\n",
       "      <td>0.043017</td>\n",
       "      <td>0.196751</td>\n",
       "      <td>0.0</td>\n",
       "      <td>0.5</td>\n",
       "      <td>0.611111</td>\n",
       "      <td>0.077232</td>\n",
       "      <td>0.053405</td>\n",
       "      <td>0.0</td>\n",
       "      <td>0.866667</td>\n",
       "      <td>0.462196</td>\n",
       "      <td>0.638813</td>\n",
       "      <td>0.000000</td>\n",
       "    </tr>\n",
       "    <tr>\n",
       "      <th>1</th>\n",
       "      <td>0.524453</td>\n",
       "      <td>0.466667</td>\n",
       "      <td>0.318311</td>\n",
       "      <td>0.085750</td>\n",
       "      <td>0.076457</td>\n",
       "      <td>0.382671</td>\n",
       "      <td>0.0</td>\n",
       "      <td>0.0</td>\n",
       "      <td>0.484848</td>\n",
       "      <td>0.077232</td>\n",
       "      <td>0.017393</td>\n",
       "      <td>0.0</td>\n",
       "      <td>0.000000</td>\n",
       "      <td>0.012417</td>\n",
       "      <td>0.482647</td>\n",
       "      <td>0.000000</td>\n",
       "    </tr>\n",
       "    <tr>\n",
       "      <th>2</th>\n",
       "      <td>0.524427</td>\n",
       "      <td>0.233333</td>\n",
       "      <td>0.316597</td>\n",
       "      <td>0.082752</td>\n",
       "      <td>0.074674</td>\n",
       "      <td>0.196751</td>\n",
       "      <td>0.0</td>\n",
       "      <td>0.0</td>\n",
       "      <td>0.590909</td>\n",
       "      <td>0.077232</td>\n",
       "      <td>0.024183</td>\n",
       "      <td>0.0</td>\n",
       "      <td>0.000000</td>\n",
       "      <td>0.108630</td>\n",
       "      <td>0.586329</td>\n",
       "      <td>0.000000</td>\n",
       "    </tr>\n",
       "    <tr>\n",
       "      <th>3</th>\n",
       "      <td>0.525147</td>\n",
       "      <td>0.000000</td>\n",
       "      <td>0.135044</td>\n",
       "      <td>0.138156</td>\n",
       "      <td>0.148477</td>\n",
       "      <td>0.000000</td>\n",
       "      <td>0.0</td>\n",
       "      <td>0.0</td>\n",
       "      <td>0.026263</td>\n",
       "      <td>0.000000</td>\n",
       "      <td>0.041310</td>\n",
       "      <td>0.0</td>\n",
       "      <td>0.866667</td>\n",
       "      <td>0.006539</td>\n",
       "      <td>0.441157</td>\n",
       "      <td>0.000000</td>\n",
       "    </tr>\n",
       "    <tr>\n",
       "      <th>4</th>\n",
       "      <td>0.525120</td>\n",
       "      <td>0.000000</td>\n",
       "      <td>0.136224</td>\n",
       "      <td>0.138919</td>\n",
       "      <td>0.149311</td>\n",
       "      <td>0.000000</td>\n",
       "      <td>0.0</td>\n",
       "      <td>0.0</td>\n",
       "      <td>0.026263</td>\n",
       "      <td>0.000000</td>\n",
       "      <td>0.139036</td>\n",
       "      <td>0.0</td>\n",
       "      <td>0.866667</td>\n",
       "      <td>0.306090</td>\n",
       "      <td>0.665412</td>\n",
       "      <td>0.111111</td>\n",
       "    </tr>\n",
       "  </tbody>\n",
       "</table>\n",
       "</div>"
      ],
      "text/plain": [
       "         id  average score buffer_None  economy activity_None  PM2.5_None  \\\n",
       "0  0.524373                   0.233333               0.427862    0.047964   \n",
       "1  0.524453                   0.466667               0.318311    0.085750   \n",
       "2  0.524427                   0.233333               0.316597    0.082752   \n",
       "3  0.525147                   0.000000               0.135044    0.138156   \n",
       "4  0.525120                   0.000000               0.136224    0.138919   \n",
       "\n",
       "   NOX_None  crime rate buffer_None  restaurant buffer_None  \\\n",
       "0  0.043017                0.196751                     0.0   \n",
       "1  0.076457                0.382671                     0.0   \n",
       "2  0.074674                0.196751                     0.0   \n",
       "3  0.148477                0.000000                     0.0   \n",
       "4  0.149311                0.000000                     0.0   \n",
       "\n",
       "   Supermarkets_Supermarkets  NightEconomy   HousingDensity   BuilingHeights   \\\n",
       "0                        0.5      0.611111          0.077232         0.053405   \n",
       "1                        0.0      0.484848          0.077232         0.017393   \n",
       "2                        0.0      0.590909          0.077232         0.024183   \n",
       "3                        0.0      0.026263          0.000000         0.041310   \n",
       "4                        0.0      0.026263          0.000000         0.139036   \n",
       "\n",
       "    GreenSpace      Noise  SpaceSyntax_R3000_SpaceSyntax_Choice_R3000_None  \\\n",
       "0           0.0  0.866667                                         0.462196   \n",
       "1           0.0  0.000000                                         0.012417   \n",
       "2           0.0  0.000000                                         0.108630   \n",
       "3           0.0  0.866667                                         0.006539   \n",
       "4           0.0  0.866667                                         0.306090   \n",
       "\n",
       "   SpaceSyntax_R3000_SpaceSyntax_Intergration_R3000_None  \\\n",
       "0                                           0.638813       \n",
       "1                                           0.482647       \n",
       "2                                           0.586329       \n",
       "3                                           0.441157       \n",
       "4                                           0.665412       \n",
       "\n",
       "   culture final-sum_culture sum  \n",
       "0                       0.000000  \n",
       "1                       0.000000  \n",
       "2                       0.000000  \n",
       "3                       0.000000  \n",
       "4                       0.111111  "
      ]
     },
     "execution_count": 22,
     "metadata": {},
     "output_type": "execute_result"
    }
   ],
   "source": [
    "#重新读文件，注意下面读取的数据都是属于normalized_data文件的\n",
    "df = pd.read_csv('normalized_data.csv')#read the 'normalized_data in the folder( I have put the file in the folder)\n",
    "df.head()"
   ]
  },
  {
   "cell_type": "code",
   "execution_count": 23,
   "metadata": {
    "scrolled": true
   },
   "outputs": [
    {
     "name": "stdout",
     "output_type": "stream",
     "text": [
      "<class 'pandas.core.frame.DataFrame'>\n",
      "RangeIndex: 32440 entries, 0 to 32439\n",
      "Data columns (total 16 columns):\n",
      " #   Column                                                 Non-Null Count  Dtype  \n",
      "---  ------                                                 --------------  -----  \n",
      " 0   id                                                     32440 non-null  float64\n",
      " 1   average score buffer_None                              32440 non-null  float64\n",
      " 2   economy activity_None                                  32440 non-null  float64\n",
      " 3   PM2.5_None                                             32440 non-null  float64\n",
      " 4   NOX_None                                               32440 non-null  float64\n",
      " 5   crime rate buffer_None                                 32440 non-null  float64\n",
      " 6   restaurant buffer_None                                 32440 non-null  float64\n",
      " 7   Supermarkets_Supermarkets                              32440 non-null  float64\n",
      " 8   NightEconomy                                           32440 non-null  float64\n",
      " 9    HousingDensity                                        32440 non-null  float64\n",
      " 10  BuilingHeights                                         32440 non-null  float64\n",
      " 11   GreenSpace                                            32440 non-null  float64\n",
      " 12   Noise                                                 32440 non-null  float64\n",
      " 13  SpaceSyntax_R3000_SpaceSyntax_Choice_R3000_None        32440 non-null  float64\n",
      " 14  SpaceSyntax_R3000_SpaceSyntax_Intergration_R3000_None  32440 non-null  float64\n",
      " 15  culture final-sum_culture sum                          32440 non-null  float64\n",
      "dtypes: float64(16)\n",
      "memory usage: 4.0 MB\n"
     ]
    }
   ],
   "source": [
    "df.info()"
   ]
  },
  {
   "cell_type": "code",
   "execution_count": 24,
   "metadata": {},
   "outputs": [
    {
     "data": {
      "text/plain": [
       "Index(['id', 'average score buffer_None', 'economy activity_None',\n",
       "       'PM2.5_None', 'NOX_None', 'crime rate buffer_None',\n",
       "       'restaurant buffer_None', 'Supermarkets_Supermarkets', 'NightEconomy',\n",
       "       ' HousingDensity ', 'BuilingHeights ', ' GreenSpace ', ' Noise',\n",
       "       'SpaceSyntax_R3000_SpaceSyntax_Choice_R3000_None',\n",
       "       'SpaceSyntax_R3000_SpaceSyntax_Intergration_R3000_None',\n",
       "       'culture final-sum_culture sum'],\n",
       "      dtype='object')"
      ]
     },
     "execution_count": 24,
     "metadata": {},
     "output_type": "execute_result"
    }
   ],
   "source": [
    "df.columns"
   ]
  },
  {
   "cell_type": "code",
   "execution_count": 30,
   "metadata": {},
   "outputs": [],
   "source": [
    "data=df[['id', 'average score buffer_None', 'economy activity_None',\n",
    "       'PM2.5_None', 'NOX_None', 'crime rate buffer_None',\n",
    "       'restaurant buffer_None', 'Supermarkets_Supermarkets', 'NightEconomy',\n",
    "       ' HousingDensity ', 'BuilingHeights ', ' GreenSpace ', ' Noise',\n",
    "       'SpaceSyntax_R3000_SpaceSyntax_Choice_R3000_None',\n",
    "       'SpaceSyntax_R3000_SpaceSyntax_Intergration_R3000_None',\n",
    "       'culture final-sum_culture sum']]"
   ]
  },
  {
   "cell_type": "markdown",
   "metadata": {},
   "source": [
    "## Visualisation"
   ]
  },
  {
   "cell_type": "code",
   "execution_count": 31,
   "metadata": {
    "scrolled": true
   },
   "outputs": [
    {
     "data": {
      "text/html": [
       "<div>\n",
       "<style scoped>\n",
       "    .dataframe tbody tr th:only-of-type {\n",
       "        vertical-align: middle;\n",
       "    }\n",
       "\n",
       "    .dataframe tbody tr th {\n",
       "        vertical-align: top;\n",
       "    }\n",
       "\n",
       "    .dataframe thead th {\n",
       "        text-align: right;\n",
       "    }\n",
       "</style>\n",
       "<table border=\"1\" class=\"dataframe\">\n",
       "  <thead>\n",
       "    <tr style=\"text-align: right;\">\n",
       "      <th></th>\n",
       "      <th>id</th>\n",
       "      <th>average score buffer_None</th>\n",
       "      <th>economy activity_None</th>\n",
       "      <th>PM2.5_None</th>\n",
       "      <th>NOX_None</th>\n",
       "      <th>crime rate buffer_None</th>\n",
       "      <th>restaurant buffer_None</th>\n",
       "      <th>Supermarkets_Supermarkets</th>\n",
       "      <th>NightEconomy</th>\n",
       "      <th>HousingDensity</th>\n",
       "      <th>BuilingHeights</th>\n",
       "      <th>GreenSpace</th>\n",
       "      <th>Noise</th>\n",
       "      <th>SpaceSyntax_R3000_SpaceSyntax_Choice_R3000_None</th>\n",
       "      <th>SpaceSyntax_R3000_SpaceSyntax_Intergration_R3000_None</th>\n",
       "      <th>culture final-sum_culture sum</th>\n",
       "    </tr>\n",
       "  </thead>\n",
       "  <tbody>\n",
       "    <tr>\n",
       "      <th>id</th>\n",
       "      <td>1.000000</td>\n",
       "      <td>-0.064171</td>\n",
       "      <td>-0.115182</td>\n",
       "      <td>-0.143199</td>\n",
       "      <td>-0.121426</td>\n",
       "      <td>-0.033639</td>\n",
       "      <td>-0.031614</td>\n",
       "      <td>-0.023480</td>\n",
       "      <td>-0.280799</td>\n",
       "      <td>0.148811</td>\n",
       "      <td>-0.094263</td>\n",
       "      <td>-0.003304</td>\n",
       "      <td>-0.029878</td>\n",
       "      <td>-0.057570</td>\n",
       "      <td>-0.140583</td>\n",
       "      <td>-0.015614</td>\n",
       "    </tr>\n",
       "    <tr>\n",
       "      <th>average score buffer_None</th>\n",
       "      <td>-0.064171</td>\n",
       "      <td>1.000000</td>\n",
       "      <td>0.382309</td>\n",
       "      <td>0.306496</td>\n",
       "      <td>0.266334</td>\n",
       "      <td>0.839641</td>\n",
       "      <td>0.126452</td>\n",
       "      <td>0.070716</td>\n",
       "      <td>0.118190</td>\n",
       "      <td>-0.454742</td>\n",
       "      <td>0.086864</td>\n",
       "      <td>-0.012461</td>\n",
       "      <td>0.130984</td>\n",
       "      <td>0.380710</td>\n",
       "      <td>0.424360</td>\n",
       "      <td>0.078969</td>\n",
       "    </tr>\n",
       "    <tr>\n",
       "      <th>economy activity_None</th>\n",
       "      <td>-0.115182</td>\n",
       "      <td>0.382309</td>\n",
       "      <td>1.000000</td>\n",
       "      <td>0.618974</td>\n",
       "      <td>0.569955</td>\n",
       "      <td>0.394626</td>\n",
       "      <td>0.111937</td>\n",
       "      <td>0.063303</td>\n",
       "      <td>0.157281</td>\n",
       "      <td>-0.502297</td>\n",
       "      <td>0.127828</td>\n",
       "      <td>-0.153594</td>\n",
       "      <td>0.027825</td>\n",
       "      <td>0.218696</td>\n",
       "      <td>0.479457</td>\n",
       "      <td>0.057893</td>\n",
       "    </tr>\n",
       "    <tr>\n",
       "      <th>PM2.5_None</th>\n",
       "      <td>-0.143199</td>\n",
       "      <td>0.306496</td>\n",
       "      <td>0.618974</td>\n",
       "      <td>1.000000</td>\n",
       "      <td>0.831949</td>\n",
       "      <td>0.231973</td>\n",
       "      <td>0.259791</td>\n",
       "      <td>0.074826</td>\n",
       "      <td>0.009298</td>\n",
       "      <td>-0.362813</td>\n",
       "      <td>0.275441</td>\n",
       "      <td>-0.100690</td>\n",
       "      <td>0.145929</td>\n",
       "      <td>0.279759</td>\n",
       "      <td>0.547078</td>\n",
       "      <td>0.198972</td>\n",
       "    </tr>\n",
       "    <tr>\n",
       "      <th>NOX_None</th>\n",
       "      <td>-0.121426</td>\n",
       "      <td>0.266334</td>\n",
       "      <td>0.569955</td>\n",
       "      <td>0.831949</td>\n",
       "      <td>1.000000</td>\n",
       "      <td>0.196208</td>\n",
       "      <td>0.177750</td>\n",
       "      <td>0.062821</td>\n",
       "      <td>0.017875</td>\n",
       "      <td>-0.339268</td>\n",
       "      <td>0.247728</td>\n",
       "      <td>-0.087434</td>\n",
       "      <td>0.131695</td>\n",
       "      <td>0.260825</td>\n",
       "      <td>0.500803</td>\n",
       "      <td>0.134432</td>\n",
       "    </tr>\n",
       "    <tr>\n",
       "      <th>crime rate buffer_None</th>\n",
       "      <td>-0.033639</td>\n",
       "      <td>0.839641</td>\n",
       "      <td>0.394626</td>\n",
       "      <td>0.231973</td>\n",
       "      <td>0.196208</td>\n",
       "      <td>1.000000</td>\n",
       "      <td>0.096464</td>\n",
       "      <td>0.064160</td>\n",
       "      <td>0.182100</td>\n",
       "      <td>-0.435801</td>\n",
       "      <td>0.010928</td>\n",
       "      <td>-0.000627</td>\n",
       "      <td>0.084662</td>\n",
       "      <td>0.317856</td>\n",
       "      <td>0.361838</td>\n",
       "      <td>0.069768</td>\n",
       "    </tr>\n",
       "    <tr>\n",
       "      <th>restaurant buffer_None</th>\n",
       "      <td>-0.031614</td>\n",
       "      <td>0.126452</td>\n",
       "      <td>0.111937</td>\n",
       "      <td>0.259791</td>\n",
       "      <td>0.177750</td>\n",
       "      <td>0.096464</td>\n",
       "      <td>1.000000</td>\n",
       "      <td>0.190443</td>\n",
       "      <td>-0.066914</td>\n",
       "      <td>-0.098673</td>\n",
       "      <td>0.192881</td>\n",
       "      <td>-0.051565</td>\n",
       "      <td>0.199865</td>\n",
       "      <td>0.300536</td>\n",
       "      <td>0.266632</td>\n",
       "      <td>0.253247</td>\n",
       "    </tr>\n",
       "    <tr>\n",
       "      <th>Supermarkets_Supermarkets</th>\n",
       "      <td>-0.023480</td>\n",
       "      <td>0.070716</td>\n",
       "      <td>0.063303</td>\n",
       "      <td>0.074826</td>\n",
       "      <td>0.062821</td>\n",
       "      <td>0.064160</td>\n",
       "      <td>0.190443</td>\n",
       "      <td>1.000000</td>\n",
       "      <td>-0.000004</td>\n",
       "      <td>-0.052647</td>\n",
       "      <td>0.092172</td>\n",
       "      <td>-0.033659</td>\n",
       "      <td>0.129568</td>\n",
       "      <td>0.182654</td>\n",
       "      <td>0.129610</td>\n",
       "      <td>0.063697</td>\n",
       "    </tr>\n",
       "    <tr>\n",
       "      <th>NightEconomy</th>\n",
       "      <td>-0.280799</td>\n",
       "      <td>0.118190</td>\n",
       "      <td>0.157281</td>\n",
       "      <td>0.009298</td>\n",
       "      <td>0.017875</td>\n",
       "      <td>0.182100</td>\n",
       "      <td>-0.066914</td>\n",
       "      <td>-0.000004</td>\n",
       "      <td>1.000000</td>\n",
       "      <td>-0.075290</td>\n",
       "      <td>-0.091701</td>\n",
       "      <td>0.000341</td>\n",
       "      <td>0.002998</td>\n",
       "      <td>0.000340</td>\n",
       "      <td>-0.018839</td>\n",
       "      <td>-0.057017</td>\n",
       "    </tr>\n",
       "    <tr>\n",
       "      <th>HousingDensity</th>\n",
       "      <td>0.148811</td>\n",
       "      <td>-0.454742</td>\n",
       "      <td>-0.502297</td>\n",
       "      <td>-0.362813</td>\n",
       "      <td>-0.339268</td>\n",
       "      <td>-0.435801</td>\n",
       "      <td>-0.098673</td>\n",
       "      <td>-0.052647</td>\n",
       "      <td>-0.075290</td>\n",
       "      <td>1.000000</td>\n",
       "      <td>-0.166837</td>\n",
       "      <td>0.053260</td>\n",
       "      <td>-0.027729</td>\n",
       "      <td>-0.205020</td>\n",
       "      <td>-0.435641</td>\n",
       "      <td>-0.056683</td>\n",
       "    </tr>\n",
       "    <tr>\n",
       "      <th>BuilingHeights</th>\n",
       "      <td>-0.094263</td>\n",
       "      <td>0.086864</td>\n",
       "      <td>0.127828</td>\n",
       "      <td>0.275441</td>\n",
       "      <td>0.247728</td>\n",
       "      <td>0.010928</td>\n",
       "      <td>0.192881</td>\n",
       "      <td>0.092172</td>\n",
       "      <td>-0.091701</td>\n",
       "      <td>-0.166837</td>\n",
       "      <td>1.000000</td>\n",
       "      <td>-0.085284</td>\n",
       "      <td>0.151076</td>\n",
       "      <td>0.199089</td>\n",
       "      <td>0.333795</td>\n",
       "      <td>0.120130</td>\n",
       "    </tr>\n",
       "    <tr>\n",
       "      <th>GreenSpace</th>\n",
       "      <td>-0.003304</td>\n",
       "      <td>-0.012461</td>\n",
       "      <td>-0.153594</td>\n",
       "      <td>-0.100690</td>\n",
       "      <td>-0.087434</td>\n",
       "      <td>-0.000627</td>\n",
       "      <td>-0.051565</td>\n",
       "      <td>-0.033659</td>\n",
       "      <td>0.000341</td>\n",
       "      <td>0.053260</td>\n",
       "      <td>-0.085284</td>\n",
       "      <td>1.000000</td>\n",
       "      <td>0.019157</td>\n",
       "      <td>0.015672</td>\n",
       "      <td>0.001235</td>\n",
       "      <td>-0.028699</td>\n",
       "    </tr>\n",
       "    <tr>\n",
       "      <th>Noise</th>\n",
       "      <td>-0.029878</td>\n",
       "      <td>0.130984</td>\n",
       "      <td>0.027825</td>\n",
       "      <td>0.145929</td>\n",
       "      <td>0.131695</td>\n",
       "      <td>0.084662</td>\n",
       "      <td>0.199865</td>\n",
       "      <td>0.129568</td>\n",
       "      <td>0.002998</td>\n",
       "      <td>-0.027729</td>\n",
       "      <td>0.151076</td>\n",
       "      <td>0.019157</td>\n",
       "      <td>1.000000</td>\n",
       "      <td>0.439274</td>\n",
       "      <td>0.308669</td>\n",
       "      <td>0.098869</td>\n",
       "    </tr>\n",
       "    <tr>\n",
       "      <th>SpaceSyntax_R3000_SpaceSyntax_Choice_R3000_None</th>\n",
       "      <td>-0.057570</td>\n",
       "      <td>0.380710</td>\n",
       "      <td>0.218696</td>\n",
       "      <td>0.279759</td>\n",
       "      <td>0.260825</td>\n",
       "      <td>0.317856</td>\n",
       "      <td>0.300536</td>\n",
       "      <td>0.182654</td>\n",
       "      <td>0.000340</td>\n",
       "      <td>-0.205020</td>\n",
       "      <td>0.199089</td>\n",
       "      <td>0.015672</td>\n",
       "      <td>0.439274</td>\n",
       "      <td>1.000000</td>\n",
       "      <td>0.637652</td>\n",
       "      <td>0.136719</td>\n",
       "    </tr>\n",
       "    <tr>\n",
       "      <th>SpaceSyntax_R3000_SpaceSyntax_Intergration_R3000_None</th>\n",
       "      <td>-0.140583</td>\n",
       "      <td>0.424360</td>\n",
       "      <td>0.479457</td>\n",
       "      <td>0.547078</td>\n",
       "      <td>0.500803</td>\n",
       "      <td>0.361838</td>\n",
       "      <td>0.266632</td>\n",
       "      <td>0.129610</td>\n",
       "      <td>-0.018839</td>\n",
       "      <td>-0.435641</td>\n",
       "      <td>0.333795</td>\n",
       "      <td>0.001235</td>\n",
       "      <td>0.308669</td>\n",
       "      <td>0.637652</td>\n",
       "      <td>1.000000</td>\n",
       "      <td>0.185971</td>\n",
       "    </tr>\n",
       "    <tr>\n",
       "      <th>culture final-sum_culture sum</th>\n",
       "      <td>-0.015614</td>\n",
       "      <td>0.078969</td>\n",
       "      <td>0.057893</td>\n",
       "      <td>0.198972</td>\n",
       "      <td>0.134432</td>\n",
       "      <td>0.069768</td>\n",
       "      <td>0.253247</td>\n",
       "      <td>0.063697</td>\n",
       "      <td>-0.057017</td>\n",
       "      <td>-0.056683</td>\n",
       "      <td>0.120130</td>\n",
       "      <td>-0.028699</td>\n",
       "      <td>0.098869</td>\n",
       "      <td>0.136719</td>\n",
       "      <td>0.185971</td>\n",
       "      <td>1.000000</td>\n",
       "    </tr>\n",
       "  </tbody>\n",
       "</table>\n",
       "</div>"
      ],
      "text/plain": [
       "                                                          id  \\\n",
       "id                                                  1.000000   \n",
       "average score buffer_None                          -0.064171   \n",
       "economy activity_None                              -0.115182   \n",
       "PM2.5_None                                         -0.143199   \n",
       "NOX_None                                           -0.121426   \n",
       "crime rate buffer_None                             -0.033639   \n",
       "restaurant buffer_None                             -0.031614   \n",
       "Supermarkets_Supermarkets                          -0.023480   \n",
       "NightEconomy                                       -0.280799   \n",
       " HousingDensity                                     0.148811   \n",
       "BuilingHeights                                     -0.094263   \n",
       " GreenSpace                                        -0.003304   \n",
       " Noise                                             -0.029878   \n",
       "SpaceSyntax_R3000_SpaceSyntax_Choice_R3000_None    -0.057570   \n",
       "SpaceSyntax_R3000_SpaceSyntax_Intergration_R300... -0.140583   \n",
       "culture final-sum_culture sum                      -0.015614   \n",
       "\n",
       "                                                    average score buffer_None  \\\n",
       "id                                                                  -0.064171   \n",
       "average score buffer_None                                            1.000000   \n",
       "economy activity_None                                                0.382309   \n",
       "PM2.5_None                                                           0.306496   \n",
       "NOX_None                                                             0.266334   \n",
       "crime rate buffer_None                                               0.839641   \n",
       "restaurant buffer_None                                               0.126452   \n",
       "Supermarkets_Supermarkets                                            0.070716   \n",
       "NightEconomy                                                         0.118190   \n",
       " HousingDensity                                                     -0.454742   \n",
       "BuilingHeights                                                       0.086864   \n",
       " GreenSpace                                                         -0.012461   \n",
       " Noise                                                               0.130984   \n",
       "SpaceSyntax_R3000_SpaceSyntax_Choice_R3000_None                      0.380710   \n",
       "SpaceSyntax_R3000_SpaceSyntax_Intergration_R300...                   0.424360   \n",
       "culture final-sum_culture sum                                        0.078969   \n",
       "\n",
       "                                                    economy activity_None  \\\n",
       "id                                                              -0.115182   \n",
       "average score buffer_None                                        0.382309   \n",
       "economy activity_None                                            1.000000   \n",
       "PM2.5_None                                                       0.618974   \n",
       "NOX_None                                                         0.569955   \n",
       "crime rate buffer_None                                           0.394626   \n",
       "restaurant buffer_None                                           0.111937   \n",
       "Supermarkets_Supermarkets                                        0.063303   \n",
       "NightEconomy                                                     0.157281   \n",
       " HousingDensity                                                 -0.502297   \n",
       "BuilingHeights                                                   0.127828   \n",
       " GreenSpace                                                     -0.153594   \n",
       " Noise                                                           0.027825   \n",
       "SpaceSyntax_R3000_SpaceSyntax_Choice_R3000_None                  0.218696   \n",
       "SpaceSyntax_R3000_SpaceSyntax_Intergration_R300...               0.479457   \n",
       "culture final-sum_culture sum                                    0.057893   \n",
       "\n",
       "                                                    PM2.5_None  NOX_None  \\\n",
       "id                                                   -0.143199 -0.121426   \n",
       "average score buffer_None                             0.306496  0.266334   \n",
       "economy activity_None                                 0.618974  0.569955   \n",
       "PM2.5_None                                            1.000000  0.831949   \n",
       "NOX_None                                              0.831949  1.000000   \n",
       "crime rate buffer_None                                0.231973  0.196208   \n",
       "restaurant buffer_None                                0.259791  0.177750   \n",
       "Supermarkets_Supermarkets                             0.074826  0.062821   \n",
       "NightEconomy                                          0.009298  0.017875   \n",
       " HousingDensity                                      -0.362813 -0.339268   \n",
       "BuilingHeights                                        0.275441  0.247728   \n",
       " GreenSpace                                          -0.100690 -0.087434   \n",
       " Noise                                                0.145929  0.131695   \n",
       "SpaceSyntax_R3000_SpaceSyntax_Choice_R3000_None       0.279759  0.260825   \n",
       "SpaceSyntax_R3000_SpaceSyntax_Intergration_R300...    0.547078  0.500803   \n",
       "culture final-sum_culture sum                         0.198972  0.134432   \n",
       "\n",
       "                                                    crime rate buffer_None  \\\n",
       "id                                                               -0.033639   \n",
       "average score buffer_None                                         0.839641   \n",
       "economy activity_None                                             0.394626   \n",
       "PM2.5_None                                                        0.231973   \n",
       "NOX_None                                                          0.196208   \n",
       "crime rate buffer_None                                            1.000000   \n",
       "restaurant buffer_None                                            0.096464   \n",
       "Supermarkets_Supermarkets                                         0.064160   \n",
       "NightEconomy                                                      0.182100   \n",
       " HousingDensity                                                  -0.435801   \n",
       "BuilingHeights                                                    0.010928   \n",
       " GreenSpace                                                      -0.000627   \n",
       " Noise                                                            0.084662   \n",
       "SpaceSyntax_R3000_SpaceSyntax_Choice_R3000_None                   0.317856   \n",
       "SpaceSyntax_R3000_SpaceSyntax_Intergration_R300...                0.361838   \n",
       "culture final-sum_culture sum                                     0.069768   \n",
       "\n",
       "                                                    restaurant buffer_None  \\\n",
       "id                                                               -0.031614   \n",
       "average score buffer_None                                         0.126452   \n",
       "economy activity_None                                             0.111937   \n",
       "PM2.5_None                                                        0.259791   \n",
       "NOX_None                                                          0.177750   \n",
       "crime rate buffer_None                                            0.096464   \n",
       "restaurant buffer_None                                            1.000000   \n",
       "Supermarkets_Supermarkets                                         0.190443   \n",
       "NightEconomy                                                     -0.066914   \n",
       " HousingDensity                                                  -0.098673   \n",
       "BuilingHeights                                                    0.192881   \n",
       " GreenSpace                                                      -0.051565   \n",
       " Noise                                                            0.199865   \n",
       "SpaceSyntax_R3000_SpaceSyntax_Choice_R3000_None                   0.300536   \n",
       "SpaceSyntax_R3000_SpaceSyntax_Intergration_R300...                0.266632   \n",
       "culture final-sum_culture sum                                     0.253247   \n",
       "\n",
       "                                                    Supermarkets_Supermarkets  \\\n",
       "id                                                                  -0.023480   \n",
       "average score buffer_None                                            0.070716   \n",
       "economy activity_None                                                0.063303   \n",
       "PM2.5_None                                                           0.074826   \n",
       "NOX_None                                                             0.062821   \n",
       "crime rate buffer_None                                               0.064160   \n",
       "restaurant buffer_None                                               0.190443   \n",
       "Supermarkets_Supermarkets                                            1.000000   \n",
       "NightEconomy                                                        -0.000004   \n",
       " HousingDensity                                                     -0.052647   \n",
       "BuilingHeights                                                       0.092172   \n",
       " GreenSpace                                                         -0.033659   \n",
       " Noise                                                               0.129568   \n",
       "SpaceSyntax_R3000_SpaceSyntax_Choice_R3000_None                      0.182654   \n",
       "SpaceSyntax_R3000_SpaceSyntax_Intergration_R300...                   0.129610   \n",
       "culture final-sum_culture sum                                        0.063697   \n",
       "\n",
       "                                                    NightEconomy  \\\n",
       "id                                                     -0.280799   \n",
       "average score buffer_None                               0.118190   \n",
       "economy activity_None                                   0.157281   \n",
       "PM2.5_None                                              0.009298   \n",
       "NOX_None                                                0.017875   \n",
       "crime rate buffer_None                                  0.182100   \n",
       "restaurant buffer_None                                 -0.066914   \n",
       "Supermarkets_Supermarkets                              -0.000004   \n",
       "NightEconomy                                            1.000000   \n",
       " HousingDensity                                        -0.075290   \n",
       "BuilingHeights                                         -0.091701   \n",
       " GreenSpace                                             0.000341   \n",
       " Noise                                                  0.002998   \n",
       "SpaceSyntax_R3000_SpaceSyntax_Choice_R3000_None         0.000340   \n",
       "SpaceSyntax_R3000_SpaceSyntax_Intergration_R300...     -0.018839   \n",
       "culture final-sum_culture sum                          -0.057017   \n",
       "\n",
       "                                                     HousingDensity   \\\n",
       "id                                                          0.148811   \n",
       "average score buffer_None                                  -0.454742   \n",
       "economy activity_None                                      -0.502297   \n",
       "PM2.5_None                                                 -0.362813   \n",
       "NOX_None                                                   -0.339268   \n",
       "crime rate buffer_None                                     -0.435801   \n",
       "restaurant buffer_None                                     -0.098673   \n",
       "Supermarkets_Supermarkets                                  -0.052647   \n",
       "NightEconomy                                               -0.075290   \n",
       " HousingDensity                                             1.000000   \n",
       "BuilingHeights                                             -0.166837   \n",
       " GreenSpace                                                 0.053260   \n",
       " Noise                                                     -0.027729   \n",
       "SpaceSyntax_R3000_SpaceSyntax_Choice_R3000_None            -0.205020   \n",
       "SpaceSyntax_R3000_SpaceSyntax_Intergration_R300...         -0.435641   \n",
       "culture final-sum_culture sum                              -0.056683   \n",
       "\n",
       "                                                    BuilingHeights   \\\n",
       "id                                                        -0.094263   \n",
       "average score buffer_None                                  0.086864   \n",
       "economy activity_None                                      0.127828   \n",
       "PM2.5_None                                                 0.275441   \n",
       "NOX_None                                                   0.247728   \n",
       "crime rate buffer_None                                     0.010928   \n",
       "restaurant buffer_None                                     0.192881   \n",
       "Supermarkets_Supermarkets                                  0.092172   \n",
       "NightEconomy                                              -0.091701   \n",
       " HousingDensity                                           -0.166837   \n",
       "BuilingHeights                                             1.000000   \n",
       " GreenSpace                                               -0.085284   \n",
       " Noise                                                     0.151076   \n",
       "SpaceSyntax_R3000_SpaceSyntax_Choice_R3000_None            0.199089   \n",
       "SpaceSyntax_R3000_SpaceSyntax_Intergration_R300...         0.333795   \n",
       "culture final-sum_culture sum                              0.120130   \n",
       "\n",
       "                                                     GreenSpace      Noise  \\\n",
       "id                                                     -0.003304 -0.029878   \n",
       "average score buffer_None                              -0.012461  0.130984   \n",
       "economy activity_None                                  -0.153594  0.027825   \n",
       "PM2.5_None                                             -0.100690  0.145929   \n",
       "NOX_None                                               -0.087434  0.131695   \n",
       "crime rate buffer_None                                 -0.000627  0.084662   \n",
       "restaurant buffer_None                                 -0.051565  0.199865   \n",
       "Supermarkets_Supermarkets                              -0.033659  0.129568   \n",
       "NightEconomy                                            0.000341  0.002998   \n",
       " HousingDensity                                         0.053260 -0.027729   \n",
       "BuilingHeights                                         -0.085284  0.151076   \n",
       " GreenSpace                                             1.000000  0.019157   \n",
       " Noise                                                  0.019157  1.000000   \n",
       "SpaceSyntax_R3000_SpaceSyntax_Choice_R3000_None         0.015672  0.439274   \n",
       "SpaceSyntax_R3000_SpaceSyntax_Intergration_R300...      0.001235  0.308669   \n",
       "culture final-sum_culture sum                          -0.028699  0.098869   \n",
       "\n",
       "                                                    SpaceSyntax_R3000_SpaceSyntax_Choice_R3000_None  \\\n",
       "id                                                                                        -0.057570   \n",
       "average score buffer_None                                                                  0.380710   \n",
       "economy activity_None                                                                      0.218696   \n",
       "PM2.5_None                                                                                 0.279759   \n",
       "NOX_None                                                                                   0.260825   \n",
       "crime rate buffer_None                                                                     0.317856   \n",
       "restaurant buffer_None                                                                     0.300536   \n",
       "Supermarkets_Supermarkets                                                                  0.182654   \n",
       "NightEconomy                                                                               0.000340   \n",
       " HousingDensity                                                                           -0.205020   \n",
       "BuilingHeights                                                                             0.199089   \n",
       " GreenSpace                                                                                0.015672   \n",
       " Noise                                                                                     0.439274   \n",
       "SpaceSyntax_R3000_SpaceSyntax_Choice_R3000_None                                            1.000000   \n",
       "SpaceSyntax_R3000_SpaceSyntax_Intergration_R300...                                         0.637652   \n",
       "culture final-sum_culture sum                                                              0.136719   \n",
       "\n",
       "                                                    SpaceSyntax_R3000_SpaceSyntax_Intergration_R3000_None  \\\n",
       "id                                                                                          -0.140583       \n",
       "average score buffer_None                                                                    0.424360       \n",
       "economy activity_None                                                                        0.479457       \n",
       "PM2.5_None                                                                                   0.547078       \n",
       "NOX_None                                                                                     0.500803       \n",
       "crime rate buffer_None                                                                       0.361838       \n",
       "restaurant buffer_None                                                                       0.266632       \n",
       "Supermarkets_Supermarkets                                                                    0.129610       \n",
       "NightEconomy                                                                                -0.018839       \n",
       " HousingDensity                                                                             -0.435641       \n",
       "BuilingHeights                                                                               0.333795       \n",
       " GreenSpace                                                                                  0.001235       \n",
       " Noise                                                                                       0.308669       \n",
       "SpaceSyntax_R3000_SpaceSyntax_Choice_R3000_None                                              0.637652       \n",
       "SpaceSyntax_R3000_SpaceSyntax_Intergration_R300...                                           1.000000       \n",
       "culture final-sum_culture sum                                                                0.185971       \n",
       "\n",
       "                                                    culture final-sum_culture sum  \n",
       "id                                                                      -0.015614  \n",
       "average score buffer_None                                                0.078969  \n",
       "economy activity_None                                                    0.057893  \n",
       "PM2.5_None                                                               0.198972  \n",
       "NOX_None                                                                 0.134432  \n",
       "crime rate buffer_None                                                   0.069768  \n",
       "restaurant buffer_None                                                   0.253247  \n",
       "Supermarkets_Supermarkets                                                0.063697  \n",
       "NightEconomy                                                            -0.057017  \n",
       " HousingDensity                                                         -0.056683  \n",
       "BuilingHeights                                                           0.120130  \n",
       " GreenSpace                                                             -0.028699  \n",
       " Noise                                                                   0.098869  \n",
       "SpaceSyntax_R3000_SpaceSyntax_Choice_R3000_None                          0.136719  \n",
       "SpaceSyntax_R3000_SpaceSyntax_Intergration_R300...                       0.185971  \n",
       "culture final-sum_culture sum                                            1.000000  "
      ]
     },
     "execution_count": 31,
     "metadata": {},
     "output_type": "execute_result"
    }
   ],
   "source": [
    "data.corr()"
   ]
  },
  {
   "cell_type": "code",
   "execution_count": 32,
   "metadata": {
    "scrolled": false
   },
   "outputs": [
    {
     "data": {
      "text/plain": [
       "Text(0.5, 1.0, 'Heatmap of data correlation')"
      ]
     },
     "execution_count": 32,
     "metadata": {},
     "output_type": "execute_result"
    },
    {
     "data": {
      "image/png": "[encoded data removed]",
      "text/plain": [
       "<Figure size 1200x800 with 2 Axes>"
      ]
     },
     "metadata": {},
     "output_type": "display_data"
    }
   ],
   "source": [
    "plt.figure(figsize=(12,8))\n",
    "heatmap = sns.heatmap(df.corr(), cmap = 'icefire',center = 0)\n",
    "plt.title('Heatmap of data correlation')"
   ]
  },
  {
   "cell_type": "markdown",
   "metadata": {},
   "source": [
    "## DIVIDE DATA FOR ANALYSIS"
   ]
  },
  {
   "cell_type": "code",
   "execution_count": 43,
   "metadata": {},
   "outputs": [],
   "source": [
    "data3=df[['BuilingHeights ','average score buffer_None',\n",
    "       'SpaceSyntax_R3000_SpaceSyntax_Intergration_R3000_None', ' Noise']]"
   ]
  },
  {
   "cell_type": "code",
   "execution_count": 44,
   "metadata": {},
   "outputs": [],
   "source": [
    "#the data should be doublicated in order to run the analysis independantly\n",
    "data1=data3.copy()\n",
    "data2=data3.copy()\n",
    "\n",
    "# Alternative you can divide the code into 2 files. DO NOT USE PCA data in KMEANS or the opposite"
   ]
  },
  {
   "cell_type": "markdown",
   "metadata": {},
   "source": [
    "## K-Means Clustering"
   ]
  },
  {
   "cell_type": "markdown",
   "metadata": {},
   "source": [
    "### A. Define the number of clusters (Elbow method)"
   ]
  },
  {
   "cell_type": "code",
   "execution_count": 45,
   "metadata": {},
   "outputs": [
    {
     "name": "stderr",
     "output_type": "stream",
     "text": [
      "C:\\Users\\15809\\anaconda3\\Lib\\site-packages\\sklearn\\cluster\\_kmeans.py:1412: FutureWarning: The default value of `n_init` will change from 10 to 'auto' in 1.4. Set the value of `n_init` explicitly to suppress the warning\n",
      "  super()._check_params_vs_input(X, default_n_init=10)\n",
      "C:\\Users\\15809\\anaconda3\\Lib\\site-packages\\sklearn\\cluster\\_kmeans.py:1412: FutureWarning: The default value of `n_init` will change from 10 to 'auto' in 1.4. Set the value of `n_init` explicitly to suppress the warning\n",
      "  super()._check_params_vs_input(X, default_n_init=10)\n",
      "C:\\Users\\15809\\anaconda3\\Lib\\site-packages\\sklearn\\cluster\\_kmeans.py:1412: FutureWarning: The default value of `n_init` will change from 10 to 'auto' in 1.4. Set the value of `n_init` explicitly to suppress the warning\n",
      "  super()._check_params_vs_input(X, default_n_init=10)\n",
      "C:\\Users\\15809\\anaconda3\\Lib\\site-packages\\sklearn\\cluster\\_kmeans.py:1412: FutureWarning: The default value of `n_init` will change from 10 to 'auto' in 1.4. Set the value of `n_init` explicitly to suppress the warning\n",
      "  super()._check_params_vs_input(X, default_n_init=10)\n",
      "C:\\Users\\15809\\anaconda3\\Lib\\site-packages\\sklearn\\cluster\\_kmeans.py:1412: FutureWarning: The default value of `n_init` will change from 10 to 'auto' in 1.4. Set the value of `n_init` explicitly to suppress the warning\n",
      "  super()._check_params_vs_input(X, default_n_init=10)\n",
      "C:\\Users\\15809\\anaconda3\\Lib\\site-packages\\sklearn\\cluster\\_kmeans.py:1412: FutureWarning: The default value of `n_init` will change from 10 to 'auto' in 1.4. Set the value of `n_init` explicitly to suppress the warning\n",
      "  super()._check_params_vs_input(X, default_n_init=10)\n",
      "C:\\Users\\15809\\anaconda3\\Lib\\site-packages\\sklearn\\cluster\\_kmeans.py:1412: FutureWarning: The default value of `n_init` will change from 10 to 'auto' in 1.4. Set the value of `n_init` explicitly to suppress the warning\n",
      "  super()._check_params_vs_input(X, default_n_init=10)\n",
      "C:\\Users\\15809\\anaconda3\\Lib\\site-packages\\sklearn\\cluster\\_kmeans.py:1412: FutureWarning: The default value of `n_init` will change from 10 to 'auto' in 1.4. Set the value of `n_init` explicitly to suppress the warning\n",
      "  super()._check_params_vs_input(X, default_n_init=10)\n",
      "C:\\Users\\15809\\anaconda3\\Lib\\site-packages\\sklearn\\cluster\\_kmeans.py:1412: FutureWarning: The default value of `n_init` will change from 10 to 'auto' in 1.4. Set the value of `n_init` explicitly to suppress the warning\n",
      "  super()._check_params_vs_input(X, default_n_init=10)\n",
      "C:\\Users\\15809\\anaconda3\\Lib\\site-packages\\sklearn\\cluster\\_kmeans.py:1412: FutureWarning: The default value of `n_init` will change from 10 to 'auto' in 1.4. Set the value of `n_init` explicitly to suppress the warning\n",
      "  super()._check_params_vs_input(X, default_n_init=10)\n",
      "C:\\Users\\15809\\anaconda3\\Lib\\site-packages\\sklearn\\cluster\\_kmeans.py:1412: FutureWarning: The default value of `n_init` will change from 10 to 'auto' in 1.4. Set the value of `n_init` explicitly to suppress the warning\n",
      "  super()._check_params_vs_input(X, default_n_init=10)\n",
      "C:\\Users\\15809\\anaconda3\\Lib\\site-packages\\sklearn\\cluster\\_kmeans.py:1412: FutureWarning: The default value of `n_init` will change from 10 to 'auto' in 1.4. Set the value of `n_init` explicitly to suppress the warning\n",
      "  super()._check_params_vs_input(X, default_n_init=10)\n",
      "C:\\Users\\15809\\anaconda3\\Lib\\site-packages\\sklearn\\cluster\\_kmeans.py:1412: FutureWarning: The default value of `n_init` will change from 10 to 'auto' in 1.4. Set the value of `n_init` explicitly to suppress the warning\n",
      "  super()._check_params_vs_input(X, default_n_init=10)\n",
      "C:\\Users\\15809\\anaconda3\\Lib\\site-packages\\sklearn\\cluster\\_kmeans.py:1412: FutureWarning: The default value of `n_init` will change from 10 to 'auto' in 1.4. Set the value of `n_init` explicitly to suppress the warning\n",
      "  super()._check_params_vs_input(X, default_n_init=10)\n",
      "C:\\Users\\15809\\anaconda3\\Lib\\site-packages\\sklearn\\cluster\\_kmeans.py:1412: FutureWarning: The default value of `n_init` will change from 10 to 'auto' in 1.4. Set the value of `n_init` explicitly to suppress the warning\n",
      "  super()._check_params_vs_input(X, default_n_init=10)\n",
      "C:\\Users\\15809\\anaconda3\\Lib\\site-packages\\sklearn\\cluster\\_kmeans.py:1412: FutureWarning: The default value of `n_init` will change from 10 to 'auto' in 1.4. Set the value of `n_init` explicitly to suppress the warning\n",
      "  super()._check_params_vs_input(X, default_n_init=10)\n",
      "C:\\Users\\15809\\anaconda3\\Lib\\site-packages\\sklearn\\cluster\\_kmeans.py:1412: FutureWarning: The default value of `n_init` will change from 10 to 'auto' in 1.4. Set the value of `n_init` explicitly to suppress the warning\n",
      "  super()._check_params_vs_input(X, default_n_init=10)\n",
      "C:\\Users\\15809\\anaconda3\\Lib\\site-packages\\sklearn\\cluster\\_kmeans.py:1412: FutureWarning: The default value of `n_init` will change from 10 to 'auto' in 1.4. Set the value of `n_init` explicitly to suppress the warning\n",
      "  super()._check_params_vs_input(X, default_n_init=10)\n",
      "C:\\Users\\15809\\anaconda3\\Lib\\site-packages\\sklearn\\cluster\\_kmeans.py:1412: FutureWarning: The default value of `n_init` will change from 10 to 'auto' in 1.4. Set the value of `n_init` explicitly to suppress the warning\n",
      "  super()._check_params_vs_input(X, default_n_init=10)\n",
      "C:\\Users\\15809\\anaconda3\\Lib\\site-packages\\sklearn\\cluster\\_kmeans.py:1412: FutureWarning: The default value of `n_init` will change from 10 to 'auto' in 1.4. Set the value of `n_init` explicitly to suppress the warning\n",
      "  super()._check_params_vs_input(X, default_n_init=10)\n"
     ]
    }
   ],
   "source": [
    "#Fit data and calculate sum of squares(wss)\n",
    "wss=[]\n",
    "from sklearn.cluster import KMeans\n",
    "\n",
    "for i in range (1,21):    \n",
    "    kmeans=KMeans(n_clusters=i,init=\"k-means++\")\n",
    "    kmeans.fit(data1)\n",
    "    wss.append(kmeans.inertia_)"
   ]
  },
  {
   "cell_type": "code",
   "execution_count": 46,
   "metadata": {
    "scrolled": false
   },
   "outputs": [
    {
     "data": {
      "image/png": "[encoded data removed]",
      "text/plain": [
       "<Figure size 1000x800 with 1 Axes>"
      ]
     },
     "metadata": {},
     "output_type": "display_data"
    }
   ],
   "source": [
    "#Visualisation of the k values in order to define the fittest\n",
    "plt.figure(figsize=(10,8))\n",
    "plt.plot(range(1,21),wss,marker=\"o\", color=\"#dc00ff\")\n",
    "plt.xlabel(\"Number of K value\")\n",
    "plt.ylabel(\"WSS\")\n",
    "plt.title(\"Sum of squares vs number of clusters\")\n",
    "#plt.savefig(\"Elbow.png\", dpi=300,transparent=True)\n",
    "plt.show()"
   ]
  },
  {
   "cell_type": "markdown",
   "metadata": {},
   "source": [
    "### B.Clustering the data"
   ]
  },
  {
   "cell_type": "code",
   "execution_count": 47,
   "metadata": {},
   "outputs": [],
   "source": [
    "#import library\n",
    "from sklearn.cluster import KMeans"
   ]
  },
  {
   "cell_type": "code",
   "execution_count": 48,
   "metadata": {},
   "outputs": [],
   "source": [
    "#pick number of clusters\n",
    "kmeans = KMeans(n_clusters=4)"
   ]
  },
  {
   "cell_type": "code",
   "execution_count": 49,
   "metadata": {},
   "outputs": [
    {
     "name": "stderr",
     "output_type": "stream",
     "text": [
      "C:\\Users\\15809\\anaconda3\\Lib\\site-packages\\sklearn\\cluster\\_kmeans.py:1412: FutureWarning: The default value of `n_init` will change from 10 to 'auto' in 1.4. Set the value of `n_init` explicitly to suppress the warning\n",
      "  super()._check_params_vs_input(X, default_n_init=10)\n"
     ]
    },
    {
     "data": {
      "text/html": [
       "<style>#sk-container-id-2 {color: black;}#sk-container-id-2 pre{padding: 0;}#sk-container-id-2 div.sk-toggleable {background-color: white;}#sk-container-id-2 label.sk-toggleable__label {cursor: pointer;display: block;width: 100%;margin-bottom: 0;padding: 0.3em;box-sizing: border-box;text-align: center;}#sk-container-id-2 label.sk-toggleable__label-arrow:before {content: \"▸\";float: left;margin-right: 0.25em;color: #696969;}#sk-container-id-2 label.sk-toggleable__label-arrow:hover:before {color: black;}#sk-container-id-2 div.sk-estimator:hover label.sk-toggleable__label-arrow:before {color: black;}#sk-container-id-2 div.sk-toggleable__content {max-height: 0;max-width: 0;overflow: hidden;text-align: left;background-color: #f0f8ff;}#sk-container-id-2 div.sk-toggleable__content pre {margin: 0.2em;color: black;border-radius: 0.25em;background-color: #f0f8ff;}#sk-container-id-2 input.sk-toggleable__control:checked~div.sk-toggleable__content {max-height: 200px;max-width: 100%;overflow: auto;}#sk-container-id-2 input.sk-toggleable__control:checked~label.sk-toggleable__label-arrow:before {content: \"▾\";}#sk-container-id-2 div.sk-estimator input.sk-toggleable__control:checked~label.sk-toggleable__label {background-color: #d4ebff;}#sk-container-id-2 div.sk-label input.sk-toggleable__control:checked~label.sk-toggleable__label {background-color: #d4ebff;}#sk-container-id-2 input.sk-hidden--visually {border: 0;clip: rect(1px 1px 1px 1px);clip: rect(1px, 1px, 1px, 1px);height: 1px;margin: -1px;overflow: hidden;padding: 0;position: absolute;width: 1px;}#sk-container-id-2 div.sk-estimator {font-family: monospace;background-color: #f0f8ff;border: 1px dotted black;border-radius: 0.25em;box-sizing: border-box;margin-bottom: 0.5em;}#sk-container-id-2 div.sk-estimator:hover {background-color: #d4ebff;}#sk-container-id-2 div.sk-parallel-item::after {content: \"\";width: 100%;border-bottom: 1px solid gray;flex-grow: 1;}#sk-container-id-2 div.sk-label:hover label.sk-toggleable__label {background-color: #d4ebff;}#sk-container-id-2 div.sk-serial::before {content: \"\";position: absolute;border-left: 1px solid gray;box-sizing: border-box;top: 0;bottom: 0;left: 50%;z-index: 0;}#sk-container-id-2 div.sk-serial {display: flex;flex-direction: column;align-items: center;background-color: white;padding-right: 0.2em;padding-left: 0.2em;position: relative;}#sk-container-id-2 div.sk-item {position: relative;z-index: 1;}#sk-container-id-2 div.sk-parallel {display: flex;align-items: stretch;justify-content: center;background-color: white;position: relative;}#sk-container-id-2 div.sk-item::before, #sk-container-id-2 div.sk-parallel-item::before {content: \"\";position: absolute;border-left: 1px solid gray;box-sizing: border-box;top: 0;bottom: 0;left: 50%;z-index: -1;}#sk-container-id-2 div.sk-parallel-item {display: flex;flex-direction: column;z-index: 1;position: relative;background-color: white;}#sk-container-id-2 div.sk-parallel-item:first-child::after {align-self: flex-end;width: 50%;}#sk-container-id-2 div.sk-parallel-item:last-child::after {align-self: flex-start;width: 50%;}#sk-container-id-2 div.sk-parallel-item:only-child::after {width: 0;}#sk-container-id-2 div.sk-dashed-wrapped {border: 1px dashed gray;margin: 0 0.4em 0.5em 0.4em;box-sizing: border-box;padding-bottom: 0.4em;background-color: white;}#sk-container-id-2 div.sk-label label {font-family: monospace;font-weight: bold;display: inline-block;line-height: 1.2em;}#sk-container-id-2 div.sk-label-container {text-align: center;}#sk-container-id-2 div.sk-container {/* jupyter's `normalize.less` sets `[hidden] { display: none; }` but bootstrap.min.css set `[hidden] { display: none !important; }` so we also need the `!important` here to be able to override the default hidden behavior on the sphinx rendered scikit-learn.org. See: https://github.com/scikit-learn/scikit-learn/issues/21755 */display: inline-block !important;position: relative;}#sk-container-id-2 div.sk-text-repr-fallback {display: none;}</style><div id=\"sk-container-id-2\" class=\"sk-top-container\"><div class=\"sk-text-repr-fallback\"><pre>KMeans(n_clusters=4)</pre><b>In a Jupyter environment, please rerun this cell to show the HTML representation or trust the notebook. <br />On GitHub, the HTML representation is unable to render, please try loading this page with nbviewer.org.</b></div><div class=\"sk-container\" hidden><div class=\"sk-item\"><div class=\"sk-estimator sk-toggleable\"><input class=\"sk-toggleable__control sk-hidden--visually\" id=\"sk-estimator-id-2\" type=\"checkbox\" checked><label for=\"sk-estimator-id-2\" class=\"sk-toggleable__label sk-toggleable__label-arrow\">KMeans</label><div class=\"sk-toggleable__content\"><pre>KMeans(n_clusters=4)</pre></div></div></div></div></div>"
      ],
      "text/plain": [
       "KMeans(n_clusters=4)"
      ]
     },
     "execution_count": 49,
     "metadata": {},
     "output_type": "execute_result"
    }
   ],
   "source": [
    "#fit the data\n",
    "kmeans.fit(data1)"
   ]
  },
  {
   "cell_type": "code",
   "execution_count": 50,
   "metadata": {},
   "outputs": [
    {
     "data": {
      "text/plain": [
       "array([[ 3.43782748e-02,  1.61078572e-01,  1.60012493e-01,\n",
       "        -1.99840144e-15],\n",
       "       [ 3.87696892e-02,  1.79249104e-01,  2.43904108e-01,\n",
       "         8.59469284e-01],\n",
       "       [ 4.60688104e-02,  2.59084462e-01,  4.08783077e-01,\n",
       "        -1.55431223e-15],\n",
       "       [ 6.66525659e-02,  2.99447125e-01,  5.57421236e-01,\n",
       "         9.00834339e-01]])"
      ]
     },
     "execution_count": 50,
     "metadata": {},
     "output_type": "execute_result"
    }
   ],
   "source": [
    "#find the cluster centers\n",
    "kmeans.cluster_centers_"
   ]
  },
  {
   "cell_type": "code",
   "execution_count": 51,
   "metadata": {},
   "outputs": [
    {
     "data": {
      "text/plain": [
       "array([3, 2, 2, ..., 3, 3, 3])"
      ]
     },
     "execution_count": 51,
     "metadata": {},
     "output_type": "execute_result"
    }
   ],
   "source": [
    "#identify cluster labels\n",
    "kmeans.labels_"
   ]
  },
  {
   "cell_type": "code",
   "execution_count": 52,
   "metadata": {},
   "outputs": [
    {
     "data": {
      "text/plain": [
       "32440"
      ]
     },
     "execution_count": 52,
     "metadata": {},
     "output_type": "execute_result"
    }
   ],
   "source": [
    "#identify length of cluster labels\n",
    "len(kmeans.labels_)"
   ]
  },
  {
   "cell_type": "code",
   "execution_count": 53,
   "metadata": {},
   "outputs": [
    {
     "name": "stderr",
     "output_type": "stream",
     "text": [
      "C:\\Users\\15809\\anaconda3\\Lib\\site-packages\\sklearn\\cluster\\_kmeans.py:1412: FutureWarning: The default value of `n_init` will change from 10 to 'auto' in 1.4. Set the value of `n_init` explicitly to suppress the warning\n",
      "  super()._check_params_vs_input(X, default_n_init=10)\n"
     ]
    }
   ],
   "source": [
    "#Add cluster column in dataset\n",
    "data1['CLUSTERS'] = kmeans.fit_predict(data1)"
   ]
  },
  {
   "cell_type": "code",
   "execution_count": 54,
   "metadata": {},
   "outputs": [
    {
     "data": {
      "text/html": [
       "<div>\n",
       "<style scoped>\n",
       "    .dataframe tbody tr th:only-of-type {\n",
       "        vertical-align: middle;\n",
       "    }\n",
       "\n",
       "    .dataframe tbody tr th {\n",
       "        vertical-align: top;\n",
       "    }\n",
       "\n",
       "    .dataframe thead th {\n",
       "        text-align: right;\n",
       "    }\n",
       "</style>\n",
       "<table border=\"1\" class=\"dataframe\">\n",
       "  <thead>\n",
       "    <tr style=\"text-align: right;\">\n",
       "      <th></th>\n",
       "      <th>BuilingHeights</th>\n",
       "      <th>average score buffer_None</th>\n",
       "      <th>SpaceSyntax_R3000_SpaceSyntax_Intergration_R3000_None</th>\n",
       "      <th>Noise</th>\n",
       "      <th>CLUSTERS</th>\n",
       "    </tr>\n",
       "  </thead>\n",
       "  <tbody>\n",
       "    <tr>\n",
       "      <th>0</th>\n",
       "      <td>0.053405</td>\n",
       "      <td>0.233333</td>\n",
       "      <td>0.638813</td>\n",
       "      <td>0.866667</td>\n",
       "      <td>1</td>\n",
       "    </tr>\n",
       "    <tr>\n",
       "      <th>1</th>\n",
       "      <td>0.017393</td>\n",
       "      <td>0.466667</td>\n",
       "      <td>0.482647</td>\n",
       "      <td>0.000000</td>\n",
       "      <td>3</td>\n",
       "    </tr>\n",
       "    <tr>\n",
       "      <th>2</th>\n",
       "      <td>0.024183</td>\n",
       "      <td>0.233333</td>\n",
       "      <td>0.586329</td>\n",
       "      <td>0.000000</td>\n",
       "      <td>3</td>\n",
       "    </tr>\n",
       "    <tr>\n",
       "      <th>3</th>\n",
       "      <td>0.041310</td>\n",
       "      <td>0.000000</td>\n",
       "      <td>0.441157</td>\n",
       "      <td>0.866667</td>\n",
       "      <td>2</td>\n",
       "    </tr>\n",
       "    <tr>\n",
       "      <th>4</th>\n",
       "      <td>0.139036</td>\n",
       "      <td>0.000000</td>\n",
       "      <td>0.665412</td>\n",
       "      <td>0.866667</td>\n",
       "      <td>1</td>\n",
       "    </tr>\n",
       "  </tbody>\n",
       "</table>\n",
       "</div>"
      ],
      "text/plain": [
       "   BuilingHeights   average score buffer_None  \\\n",
       "0         0.053405                   0.233333   \n",
       "1         0.017393                   0.466667   \n",
       "2         0.024183                   0.233333   \n",
       "3         0.041310                   0.000000   \n",
       "4         0.139036                   0.000000   \n",
       "\n",
       "   SpaceSyntax_R3000_SpaceSyntax_Intergration_R3000_None     Noise  CLUSTERS  \n",
       "0                                           0.638813      0.866667         1  \n",
       "1                                           0.482647      0.000000         3  \n",
       "2                                           0.586329      0.000000         3  \n",
       "3                                           0.441157      0.866667         2  \n",
       "4                                           0.665412      0.866667         1  "
      ]
     },
     "execution_count": 54,
     "metadata": {},
     "output_type": "execute_result"
    }
   ],
   "source": [
    "data1.head()"
   ]
  },
  {
   "cell_type": "markdown",
   "metadata": {},
   "source": [
    "### C.Visualise your Kmeans result"
   ]
  },
  {
   "cell_type": "code",
   "execution_count": 55,
   "metadata": {
    "scrolled": false
   },
   "outputs": [
    {
     "data": {
      "image/png": "[encoded data removed]",
      "text/plain": [
       "<Figure size 640x480 with 1 Axes>"
      ]
     },
     "metadata": {},
     "output_type": "display_data"
    }
   ],
   "source": [
    "#Scatterplot of clustered data\n",
    "sns.scatterplot(x=data1['BuilingHeights '], y=data1[ 'SpaceSyntax_R3000_SpaceSyntax_Intergration_R3000_None'], hue= kmeans.labels_, palette='rainbow')\n",
    "plt.title('K-means Clustering')\n",
    "plt.legend(loc=0,bbox_to_anchor=(1.2,0.5),title=\"Clusters\")\n",
    "plt.show()"
   ]
  },
  {
   "cell_type": "code",
   "execution_count": 56,
   "metadata": {},
   "outputs": [
    {
     "data": {
      "text/plain": [
       "Index(['BuilingHeights ', 'average score buffer_None',\n",
       "       'SpaceSyntax_R3000_SpaceSyntax_Intergration_R3000_None', ' Noise',\n",
       "       'CLUSTERS'],\n",
       "      dtype='object')"
      ]
     },
     "execution_count": 56,
     "metadata": {},
     "output_type": "execute_result"
    }
   ],
   "source": [
    "data1.columns"
   ]
  },
  {
   "cell_type": "markdown",
   "metadata": {},
   "source": [
    "## Principal Component Analysis"
   ]
  },
  {
   "cell_type": "markdown",
   "metadata": {},
   "source": [
    "### A. Preprocessing"
   ]
  },
  {
   "cell_type": "code",
   "execution_count": 57,
   "metadata": {},
   "outputs": [],
   "source": [
    "from sklearn.preprocessing import StandardScaler"
   ]
  },
  {
   "cell_type": "code",
   "execution_count": 58,
   "metadata": {},
   "outputs": [
    {
     "data": {
      "text/html": [
       "<style>#sk-container-id-3 {color: black;}#sk-container-id-3 pre{padding: 0;}#sk-container-id-3 div.sk-toggleable {background-color: white;}#sk-container-id-3 label.sk-toggleable__label {cursor: pointer;display: block;width: 100%;margin-bottom: 0;padding: 0.3em;box-sizing: border-box;text-align: center;}#sk-container-id-3 label.sk-toggleable__label-arrow:before {content: \"▸\";float: left;margin-right: 0.25em;color: #696969;}#sk-container-id-3 label.sk-toggleable__label-arrow:hover:before {color: black;}#sk-container-id-3 div.sk-estimator:hover label.sk-toggleable__label-arrow:before {color: black;}#sk-container-id-3 div.sk-toggleable__content {max-height: 0;max-width: 0;overflow: hidden;text-align: left;background-color: #f0f8ff;}#sk-container-id-3 div.sk-toggleable__content pre {margin: 0.2em;color: black;border-radius: 0.25em;background-color: #f0f8ff;}#sk-container-id-3 input.sk-toggleable__control:checked~div.sk-toggleable__content {max-height: 200px;max-width: 100%;overflow: auto;}#sk-container-id-3 input.sk-toggleable__control:checked~label.sk-toggleable__label-arrow:before {content: \"▾\";}#sk-container-id-3 div.sk-estimator input.sk-toggleable__control:checked~label.sk-toggleable__label {background-color: #d4ebff;}#sk-container-id-3 div.sk-label input.sk-toggleable__control:checked~label.sk-toggleable__label {background-color: #d4ebff;}#sk-container-id-3 input.sk-hidden--visually {border: 0;clip: rect(1px 1px 1px 1px);clip: rect(1px, 1px, 1px, 1px);height: 1px;margin: -1px;overflow: hidden;padding: 0;position: absolute;width: 1px;}#sk-container-id-3 div.sk-estimator {font-family: monospace;background-color: #f0f8ff;border: 1px dotted black;border-radius: 0.25em;box-sizing: border-box;margin-bottom: 0.5em;}#sk-container-id-3 div.sk-estimator:hover {background-color: #d4ebff;}#sk-container-id-3 div.sk-parallel-item::after {content: \"\";width: 100%;border-bottom: 1px solid gray;flex-grow: 1;}#sk-container-id-3 div.sk-label:hover label.sk-toggleable__label {background-color: #d4ebff;}#sk-container-id-3 div.sk-serial::before {content: \"\";position: absolute;border-left: 1px solid gray;box-sizing: border-box;top: 0;bottom: 0;left: 50%;z-index: 0;}#sk-container-id-3 div.sk-serial {display: flex;flex-direction: column;align-items: center;background-color: white;padding-right: 0.2em;padding-left: 0.2em;position: relative;}#sk-container-id-3 div.sk-item {position: relative;z-index: 1;}#sk-container-id-3 div.sk-parallel {display: flex;align-items: stretch;justify-content: center;background-color: white;position: relative;}#sk-container-id-3 div.sk-item::before, #sk-container-id-3 div.sk-parallel-item::before {content: \"\";position: absolute;border-left: 1px solid gray;box-sizing: border-box;top: 0;bottom: 0;left: 50%;z-index: -1;}#sk-container-id-3 div.sk-parallel-item {display: flex;flex-direction: column;z-index: 1;position: relative;background-color: white;}#sk-container-id-3 div.sk-parallel-item:first-child::after {align-self: flex-end;width: 50%;}#sk-container-id-3 div.sk-parallel-item:last-child::after {align-self: flex-start;width: 50%;}#sk-container-id-3 div.sk-parallel-item:only-child::after {width: 0;}#sk-container-id-3 div.sk-dashed-wrapped {border: 1px dashed gray;margin: 0 0.4em 0.5em 0.4em;box-sizing: border-box;padding-bottom: 0.4em;background-color: white;}#sk-container-id-3 div.sk-label label {font-family: monospace;font-weight: bold;display: inline-block;line-height: 1.2em;}#sk-container-id-3 div.sk-label-container {text-align: center;}#sk-container-id-3 div.sk-container {/* jupyter's `normalize.less` sets `[hidden] { display: none; }` but bootstrap.min.css set `[hidden] { display: none !important; }` so we also need the `!important` here to be able to override the default hidden behavior on the sphinx rendered scikit-learn.org. See: https://github.com/scikit-learn/scikit-learn/issues/21755 */display: inline-block !important;position: relative;}#sk-container-id-3 div.sk-text-repr-fallback {display: none;}</style><div id=\"sk-container-id-3\" class=\"sk-top-container\"><div class=\"sk-text-repr-fallback\"><pre>StandardScaler()</pre><b>In a Jupyter environment, please rerun this cell to show the HTML representation or trust the notebook. <br />On GitHub, the HTML representation is unable to render, please try loading this page with nbviewer.org.</b></div><div class=\"sk-container\" hidden><div class=\"sk-item\"><div class=\"sk-estimator sk-toggleable\"><input class=\"sk-toggleable__control sk-hidden--visually\" id=\"sk-estimator-id-3\" type=\"checkbox\" checked><label for=\"sk-estimator-id-3\" class=\"sk-toggleable__label sk-toggleable__label-arrow\">StandardScaler</label><div class=\"sk-toggleable__content\"><pre>StandardScaler()</pre></div></div></div></div></div>"
      ],
      "text/plain": [
       "StandardScaler()"
      ]
     },
     "execution_count": 58,
     "metadata": {},
     "output_type": "execute_result"
    }
   ],
   "source": [
    "scaler = StandardScaler()\n",
    "scaler.fit(data2)"
   ]
  },
  {
   "cell_type": "code",
   "execution_count": 59,
   "metadata": {},
   "outputs": [],
   "source": [
    "scaled_data = scaler.transform(data2)"
   ]
  },
  {
   "cell_type": "markdown",
   "metadata": {},
   "source": [
    "### B. Running PCA"
   ]
  },
  {
   "cell_type": "code",
   "execution_count": 60,
   "metadata": {},
   "outputs": [],
   "source": [
    "from sklearn.decomposition import PCA"
   ]
  },
  {
   "cell_type": "code",
   "execution_count": 61,
   "metadata": {},
   "outputs": [],
   "source": [
    "pca = PCA(n_components=3)"
   ]
  },
  {
   "cell_type": "code",
   "execution_count": 62,
   "metadata": {},
   "outputs": [
    {
     "data": {
      "text/html": [
       "<style>#sk-container-id-4 {color: black;}#sk-container-id-4 pre{padding: 0;}#sk-container-id-4 div.sk-toggleable {background-color: white;}#sk-container-id-4 label.sk-toggleable__label {cursor: pointer;display: block;width: 100%;margin-bottom: 0;padding: 0.3em;box-sizing: border-box;text-align: center;}#sk-container-id-4 label.sk-toggleable__label-arrow:before {content: \"▸\";float: left;margin-right: 0.25em;color: #696969;}#sk-container-id-4 label.sk-toggleable__label-arrow:hover:before {color: black;}#sk-container-id-4 div.sk-estimator:hover label.sk-toggleable__label-arrow:before {color: black;}#sk-container-id-4 div.sk-toggleable__content {max-height: 0;max-width: 0;overflow: hidden;text-align: left;background-color: #f0f8ff;}#sk-container-id-4 div.sk-toggleable__content pre {margin: 0.2em;color: black;border-radius: 0.25em;background-color: #f0f8ff;}#sk-container-id-4 input.sk-toggleable__control:checked~div.sk-toggleable__content {max-height: 200px;max-width: 100%;overflow: auto;}#sk-container-id-4 input.sk-toggleable__control:checked~label.sk-toggleable__label-arrow:before {content: \"▾\";}#sk-container-id-4 div.sk-estimator input.sk-toggleable__control:checked~label.sk-toggleable__label {background-color: #d4ebff;}#sk-container-id-4 div.sk-label input.sk-toggleable__control:checked~label.sk-toggleable__label {background-color: #d4ebff;}#sk-container-id-4 input.sk-hidden--visually {border: 0;clip: rect(1px 1px 1px 1px);clip: rect(1px, 1px, 1px, 1px);height: 1px;margin: -1px;overflow: hidden;padding: 0;position: absolute;width: 1px;}#sk-container-id-4 div.sk-estimator {font-family: monospace;background-color: #f0f8ff;border: 1px dotted black;border-radius: 0.25em;box-sizing: border-box;margin-bottom: 0.5em;}#sk-container-id-4 div.sk-estimator:hover {background-color: #d4ebff;}#sk-container-id-4 div.sk-parallel-item::after {content: \"\";width: 100%;border-bottom: 1px solid gray;flex-grow: 1;}#sk-container-id-4 div.sk-label:hover label.sk-toggleable__label {background-color: #d4ebff;}#sk-container-id-4 div.sk-serial::before {content: \"\";position: absolute;border-left: 1px solid gray;box-sizing: border-box;top: 0;bottom: 0;left: 50%;z-index: 0;}#sk-container-id-4 div.sk-serial {display: flex;flex-direction: column;align-items: center;background-color: white;padding-right: 0.2em;padding-left: 0.2em;position: relative;}#sk-container-id-4 div.sk-item {position: relative;z-index: 1;}#sk-container-id-4 div.sk-parallel {display: flex;align-items: stretch;justify-content: center;background-color: white;position: relative;}#sk-container-id-4 div.sk-item::before, #sk-container-id-4 div.sk-parallel-item::before {content: \"\";position: absolute;border-left: 1px solid gray;box-sizing: border-box;top: 0;bottom: 0;left: 50%;z-index: -1;}#sk-container-id-4 div.sk-parallel-item {display: flex;flex-direction: column;z-index: 1;position: relative;background-color: white;}#sk-container-id-4 div.sk-parallel-item:first-child::after {align-self: flex-end;width: 50%;}#sk-container-id-4 div.sk-parallel-item:last-child::after {align-self: flex-start;width: 50%;}#sk-container-id-4 div.sk-parallel-item:only-child::after {width: 0;}#sk-container-id-4 div.sk-dashed-wrapped {border: 1px dashed gray;margin: 0 0.4em 0.5em 0.4em;box-sizing: border-box;padding-bottom: 0.4em;background-color: white;}#sk-container-id-4 div.sk-label label {font-family: monospace;font-weight: bold;display: inline-block;line-height: 1.2em;}#sk-container-id-4 div.sk-label-container {text-align: center;}#sk-container-id-4 div.sk-container {/* jupyter's `normalize.less` sets `[hidden] { display: none; }` but bootstrap.min.css set `[hidden] { display: none !important; }` so we also need the `!important` here to be able to override the default hidden behavior on the sphinx rendered scikit-learn.org. See: https://github.com/scikit-learn/scikit-learn/issues/21755 */display: inline-block !important;position: relative;}#sk-container-id-4 div.sk-text-repr-fallback {display: none;}</style><div id=\"sk-container-id-4\" class=\"sk-top-container\"><div class=\"sk-text-repr-fallback\"><pre>PCA(n_components=3)</pre><b>In a Jupyter environment, please rerun this cell to show the HTML representation or trust the notebook. <br />On GitHub, the HTML representation is unable to render, please try loading this page with nbviewer.org.</b></div><div class=\"sk-container\" hidden><div class=\"sk-item\"><div class=\"sk-estimator sk-toggleable\"><input class=\"sk-toggleable__control sk-hidden--visually\" id=\"sk-estimator-id-4\" type=\"checkbox\" checked><label for=\"sk-estimator-id-4\" class=\"sk-toggleable__label sk-toggleable__label-arrow\">PCA</label><div class=\"sk-toggleable__content\"><pre>PCA(n_components=3)</pre></div></div></div></div></div>"
      ],
      "text/plain": [
       "PCA(n_components=3)"
      ]
     },
     "execution_count": 62,
     "metadata": {},
     "output_type": "execute_result"
    }
   ],
   "source": [
    "pca.fit(scaled_data)"
   ]
  },
  {
   "cell_type": "code",
   "execution_count": 63,
   "metadata": {},
   "outputs": [],
   "source": [
    "x_pca = pca.transform(scaled_data)"
   ]
  },
  {
   "cell_type": "code",
   "execution_count": 64,
   "metadata": {},
   "outputs": [
    {
     "data": {
      "text/plain": [
       "(32440, 4)"
      ]
     },
     "execution_count": 64,
     "metadata": {},
     "output_type": "execute_result"
    }
   ],
   "source": [
    "scaled_data.shape #15 dimensions"
   ]
  },
  {
   "cell_type": "code",
   "execution_count": 65,
   "metadata": {},
   "outputs": [
    {
     "data": {
      "text/plain": [
       "(32440, 3)"
      ]
     },
     "execution_count": 65,
     "metadata": {},
     "output_type": "execute_result"
    }
   ],
   "source": [
    "x_pca.shape #3 dimensions"
   ]
  },
  {
   "cell_type": "markdown",
   "metadata": {},
   "source": [
    "### C.Interpretation of results"
   ]
  },
  {
   "cell_type": "code",
   "execution_count": 66,
   "metadata": {},
   "outputs": [
    {
     "data": {
      "text/plain": [
       "array([[ 0.42359946,  0.4818738 ,  0.6355558 ,  0.42945309],\n",
       "       [ 0.65556495, -0.69779528, -0.09260385,  0.27338776],\n",
       "       [ 0.52632136,  0.15687704,  0.09154923, -0.83065887]])"
      ]
     },
     "execution_count": 66,
     "metadata": {},
     "output_type": "execute_result"
    }
   ],
   "source": [
    "pca.components_"
   ]
  },
  {
   "cell_type": "code",
   "execution_count": 67,
   "metadata": {},
   "outputs": [],
   "source": [
    "df_comp = pd.DataFrame(pca.components_,columns=data2.columns)"
   ]
  },
  {
   "cell_type": "code",
   "execution_count": 68,
   "metadata": {},
   "outputs": [
    {
     "data": {
      "text/plain": [
       "<Axes: >"
      ]
     },
     "execution_count": 68,
     "metadata": {},
     "output_type": "execute_result"
    },
    {
     "data": {
      "image/png": "[encoded data removed]",
      "text/plain": [
       "<Figure size 1200x600 with 2 Axes>"
      ]
     },
     "metadata": {},
     "output_type": "display_data"
    }
   ],
   "source": [
    "plt.figure(figsize=(12,6))\n",
    "sns.heatmap(df_comp,cmap='icefire',center = 0)"
   ]
  },
  {
   "cell_type": "code",
   "execution_count": 69,
   "metadata": {},
   "outputs": [],
   "source": [
    "cmap = sns.diverging_palette(180, 295, s=100, l=50,\n",
    "                                  n=10, center= \"dark\", as_cmap = True)\n",
    "\n",
    "#Documentation: https://seaborn.pydata.org/generated/seaborn.diverging_palette.html"
   ]
  },
  {
   "cell_type": "code",
   "execution_count": 70,
   "metadata": {
    "scrolled": false
   },
   "outputs": [
    {
     "data": {
      "text/plain": [
       "<Axes: >"
      ]
     },
     "execution_count": 70,
     "metadata": {},
     "output_type": "execute_result"
    },
    {
     "data": {
      "image/png": "[encoded data removed]",
      "text/plain": [
       "<Figure size 1600x1200 with 2 Axes>"
      ]
     },
     "metadata": {},
     "output_type": "display_data"
    }
   ],
   "source": [
    "plt.figure(figsize=(16,12))\n",
    "sns.heatmap(df_comp,cmap= cmap,center = 0, annot=True,fmt = \".1f\")"
   ]
  },
  {
   "cell_type": "code",
   "execution_count": 71,
   "metadata": {},
   "outputs": [
    {
     "data": {
      "text/html": [
       "<div>\n",
       "<style scoped>\n",
       "    .dataframe tbody tr th:only-of-type {\n",
       "        vertical-align: middle;\n",
       "    }\n",
       "\n",
       "    .dataframe tbody tr th {\n",
       "        vertical-align: top;\n",
       "    }\n",
       "\n",
       "    .dataframe thead th {\n",
       "        text-align: right;\n",
       "    }\n",
       "</style>\n",
       "<table border=\"1\" class=\"dataframe\">\n",
       "  <thead>\n",
       "    <tr style=\"text-align: right;\">\n",
       "      <th></th>\n",
       "      <th>BuilingHeights</th>\n",
       "      <th>average score buffer_None</th>\n",
       "      <th>SpaceSyntax_R3000_SpaceSyntax_Intergration_R3000_None</th>\n",
       "      <th>Noise</th>\n",
       "    </tr>\n",
       "  </thead>\n",
       "  <tbody>\n",
       "    <tr>\n",
       "      <th>0</th>\n",
       "      <td>0.423599</td>\n",
       "      <td>0.481874</td>\n",
       "      <td>0.635556</td>\n",
       "      <td>0.429453</td>\n",
       "    </tr>\n",
       "    <tr>\n",
       "      <th>1</th>\n",
       "      <td>0.655565</td>\n",
       "      <td>-0.697795</td>\n",
       "      <td>-0.092604</td>\n",
       "      <td>0.273388</td>\n",
       "    </tr>\n",
       "    <tr>\n",
       "      <th>2</th>\n",
       "      <td>0.526321</td>\n",
       "      <td>0.156877</td>\n",
       "      <td>0.091549</td>\n",
       "      <td>-0.830659</td>\n",
       "    </tr>\n",
       "  </tbody>\n",
       "</table>\n",
       "</div>"
      ],
      "text/plain": [
       "   BuilingHeights   average score buffer_None  \\\n",
       "0         0.423599                   0.481874   \n",
       "1         0.655565                  -0.697795   \n",
       "2         0.526321                   0.156877   \n",
       "\n",
       "   SpaceSyntax_R3000_SpaceSyntax_Intergration_R3000_None     Noise  \n",
       "0                                           0.635556      0.429453  \n",
       "1                                          -0.092604      0.273388  \n",
       "2                                           0.091549     -0.830659  "
      ]
     },
     "execution_count": 71,
     "metadata": {},
     "output_type": "execute_result"
    }
   ],
   "source": [
    "df_comp.head()"
   ]
  },
  {
   "cell_type": "code",
   "execution_count": 72,
   "metadata": {},
   "outputs": [],
   "source": [
    "df=pd.DataFrame(x_pca, columns = ['0','1','2'])"
   ]
  },
  {
   "cell_type": "code",
   "execution_count": 73,
   "metadata": {},
   "outputs": [
    {
     "data": {
      "text/html": [
       "<div>\n",
       "<style scoped>\n",
       "    .dataframe tbody tr th:only-of-type {\n",
       "        vertical-align: middle;\n",
       "    }\n",
       "\n",
       "    .dataframe tbody tr th {\n",
       "        vertical-align: top;\n",
       "    }\n",
       "\n",
       "    .dataframe thead th {\n",
       "        text-align: right;\n",
       "    }\n",
       "</style>\n",
       "<table border=\"1\" class=\"dataframe\">\n",
       "  <thead>\n",
       "    <tr style=\"text-align: right;\">\n",
       "      <th></th>\n",
       "      <th>0</th>\n",
       "      <th>1</th>\n",
       "      <th>2</th>\n",
       "    </tr>\n",
       "  </thead>\n",
       "  <tbody>\n",
       "    <tr>\n",
       "      <th>0</th>\n",
       "      <td>1.653570</td>\n",
       "      <td>0.238571</td>\n",
       "      <td>-0.718234</td>\n",
       "    </tr>\n",
       "    <tr>\n",
       "      <th>1</th>\n",
       "      <td>0.893369</td>\n",
       "      <td>-2.232212</td>\n",
       "      <td>0.728326</td>\n",
       "    </tr>\n",
       "    <tr>\n",
       "      <th>2</th>\n",
       "      <td>0.322759</td>\n",
       "      <td>-0.738642</td>\n",
       "      <td>0.541505</td>\n",
       "    </tr>\n",
       "    <tr>\n",
       "      <th>3</th>\n",
       "      <td>-0.137163</td>\n",
       "      <td>1.585414</td>\n",
       "      <td>-1.291315</td>\n",
       "    </tr>\n",
       "    <tr>\n",
       "      <th>4</th>\n",
       "      <td>1.619971</td>\n",
       "      <td>3.008713</td>\n",
       "      <td>0.051171</td>\n",
       "    </tr>\n",
       "  </tbody>\n",
       "</table>\n",
       "</div>"
      ],
      "text/plain": [
       "          0         1         2\n",
       "0  1.653570  0.238571 -0.718234\n",
       "1  0.893369 -2.232212  0.728326\n",
       "2  0.322759 -0.738642  0.541505\n",
       "3 -0.137163  1.585414 -1.291315\n",
       "4  1.619971  3.008713  0.051171"
      ]
     },
     "execution_count": 73,
     "metadata": {},
     "output_type": "execute_result"
    }
   ],
   "source": [
    "df.head()"
   ]
  },
  {
   "cell_type": "code",
   "execution_count": 74,
   "metadata": {},
   "outputs": [
    {
     "data": {
      "text/html": [
       "<div>\n",
       "<style scoped>\n",
       "    .dataframe tbody tr th:only-of-type {\n",
       "        vertical-align: middle;\n",
       "    }\n",
       "\n",
       "    .dataframe tbody tr th {\n",
       "        vertical-align: top;\n",
       "    }\n",
       "\n",
       "    .dataframe thead th {\n",
       "        text-align: right;\n",
       "    }\n",
       "</style>\n",
       "<table border=\"1\" class=\"dataframe\">\n",
       "  <thead>\n",
       "    <tr style=\"text-align: right;\">\n",
       "      <th></th>\n",
       "      <th>id</th>\n",
       "    </tr>\n",
       "  </thead>\n",
       "  <tbody>\n",
       "    <tr>\n",
       "      <th>0</th>\n",
       "      <td>19664</td>\n",
       "    </tr>\n",
       "    <tr>\n",
       "      <th>1</th>\n",
       "      <td>19667</td>\n",
       "    </tr>\n",
       "    <tr>\n",
       "      <th>2</th>\n",
       "      <td>19666</td>\n",
       "    </tr>\n",
       "    <tr>\n",
       "      <th>3</th>\n",
       "      <td>19693</td>\n",
       "    </tr>\n",
       "    <tr>\n",
       "      <th>4</th>\n",
       "      <td>19692</td>\n",
       "    </tr>\n",
       "  </tbody>\n",
       "</table>\n",
       "</div>"
      ],
      "text/plain": [
       "      id\n",
       "0  19664\n",
       "1  19667\n",
       "2  19666\n",
       "3  19693\n",
       "4  19692"
      ]
     },
     "execution_count": 74,
     "metadata": {},
     "output_type": "execute_result"
    }
   ],
   "source": [
    "datalocation.head()"
   ]
  },
  {
   "cell_type": "code",
   "execution_count": 75,
   "metadata": {},
   "outputs": [],
   "source": [
    "df_prefinal=pd.concat([df,datalocation],axis=1)"
   ]
  },
  {
   "cell_type": "code",
   "execution_count": 76,
   "metadata": {},
   "outputs": [
    {
     "data": {
      "text/html": [
       "<div>\n",
       "<style scoped>\n",
       "    .dataframe tbody tr th:only-of-type {\n",
       "        vertical-align: middle;\n",
       "    }\n",
       "\n",
       "    .dataframe tbody tr th {\n",
       "        vertical-align: top;\n",
       "    }\n",
       "\n",
       "    .dataframe thead th {\n",
       "        text-align: right;\n",
       "    }\n",
       "</style>\n",
       "<table border=\"1\" class=\"dataframe\">\n",
       "  <thead>\n",
       "    <tr style=\"text-align: right;\">\n",
       "      <th></th>\n",
       "      <th>0</th>\n",
       "      <th>1</th>\n",
       "      <th>2</th>\n",
       "      <th>id</th>\n",
       "    </tr>\n",
       "  </thead>\n",
       "  <tbody>\n",
       "    <tr>\n",
       "      <th>0</th>\n",
       "      <td>1.653570</td>\n",
       "      <td>0.238571</td>\n",
       "      <td>-0.718234</td>\n",
       "      <td>19664</td>\n",
       "    </tr>\n",
       "    <tr>\n",
       "      <th>1</th>\n",
       "      <td>0.893369</td>\n",
       "      <td>-2.232212</td>\n",
       "      <td>0.728326</td>\n",
       "      <td>19667</td>\n",
       "    </tr>\n",
       "    <tr>\n",
       "      <th>2</th>\n",
       "      <td>0.322759</td>\n",
       "      <td>-0.738642</td>\n",
       "      <td>0.541505</td>\n",
       "      <td>19666</td>\n",
       "    </tr>\n",
       "    <tr>\n",
       "      <th>3</th>\n",
       "      <td>-0.137163</td>\n",
       "      <td>1.585414</td>\n",
       "      <td>-1.291315</td>\n",
       "      <td>19693</td>\n",
       "    </tr>\n",
       "    <tr>\n",
       "      <th>4</th>\n",
       "      <td>1.619971</td>\n",
       "      <td>3.008713</td>\n",
       "      <td>0.051171</td>\n",
       "      <td>19692</td>\n",
       "    </tr>\n",
       "  </tbody>\n",
       "</table>\n",
       "</div>"
      ],
      "text/plain": [
       "          0         1         2     id\n",
       "0  1.653570  0.238571 -0.718234  19664\n",
       "1  0.893369 -2.232212  0.728326  19667\n",
       "2  0.322759 -0.738642  0.541505  19666\n",
       "3 -0.137163  1.585414 -1.291315  19693\n",
       "4  1.619971  3.008713  0.051171  19692"
      ]
     },
     "execution_count": 76,
     "metadata": {},
     "output_type": "execute_result"
    }
   ],
   "source": [
    "df_prefinal.head()"
   ]
  },
  {
   "cell_type": "code",
   "execution_count": 77,
   "metadata": {},
   "outputs": [],
   "source": [
    "df_final=pd.concat([df_prefinal, data1],axis=1)"
   ]
  },
  {
   "cell_type": "code",
   "execution_count": 78,
   "metadata": {},
   "outputs": [
    {
     "data": {
      "text/html": [
       "<div>\n",
       "<style scoped>\n",
       "    .dataframe tbody tr th:only-of-type {\n",
       "        vertical-align: middle;\n",
       "    }\n",
       "\n",
       "    .dataframe tbody tr th {\n",
       "        vertical-align: top;\n",
       "    }\n",
       "\n",
       "    .dataframe thead th {\n",
       "        text-align: right;\n",
       "    }\n",
       "</style>\n",
       "<table border=\"1\" class=\"dataframe\">\n",
       "  <thead>\n",
       "    <tr style=\"text-align: right;\">\n",
       "      <th></th>\n",
       "      <th>0</th>\n",
       "      <th>1</th>\n",
       "      <th>2</th>\n",
       "      <th>id</th>\n",
       "      <th>BuilingHeights</th>\n",
       "      <th>average score buffer_None</th>\n",
       "      <th>SpaceSyntax_R3000_SpaceSyntax_Intergration_R3000_None</th>\n",
       "      <th>Noise</th>\n",
       "      <th>CLUSTERS</th>\n",
       "    </tr>\n",
       "  </thead>\n",
       "  <tbody>\n",
       "    <tr>\n",
       "      <th>0</th>\n",
       "      <td>1.653570</td>\n",
       "      <td>0.238571</td>\n",
       "      <td>-0.718234</td>\n",
       "      <td>19664</td>\n",
       "      <td>0.053405</td>\n",
       "      <td>0.233333</td>\n",
       "      <td>0.638813</td>\n",
       "      <td>0.866667</td>\n",
       "      <td>1</td>\n",
       "    </tr>\n",
       "    <tr>\n",
       "      <th>1</th>\n",
       "      <td>0.893369</td>\n",
       "      <td>-2.232212</td>\n",
       "      <td>0.728326</td>\n",
       "      <td>19667</td>\n",
       "      <td>0.017393</td>\n",
       "      <td>0.466667</td>\n",
       "      <td>0.482647</td>\n",
       "      <td>0.000000</td>\n",
       "      <td>3</td>\n",
       "    </tr>\n",
       "    <tr>\n",
       "      <th>2</th>\n",
       "      <td>0.322759</td>\n",
       "      <td>-0.738642</td>\n",
       "      <td>0.541505</td>\n",
       "      <td>19666</td>\n",
       "      <td>0.024183</td>\n",
       "      <td>0.233333</td>\n",
       "      <td>0.586329</td>\n",
       "      <td>0.000000</td>\n",
       "      <td>3</td>\n",
       "    </tr>\n",
       "    <tr>\n",
       "      <th>3</th>\n",
       "      <td>-0.137163</td>\n",
       "      <td>1.585414</td>\n",
       "      <td>-1.291315</td>\n",
       "      <td>19693</td>\n",
       "      <td>0.041310</td>\n",
       "      <td>0.000000</td>\n",
       "      <td>0.441157</td>\n",
       "      <td>0.866667</td>\n",
       "      <td>2</td>\n",
       "    </tr>\n",
       "    <tr>\n",
       "      <th>4</th>\n",
       "      <td>1.619971</td>\n",
       "      <td>3.008713</td>\n",
       "      <td>0.051171</td>\n",
       "      <td>19692</td>\n",
       "      <td>0.139036</td>\n",
       "      <td>0.000000</td>\n",
       "      <td>0.665412</td>\n",
       "      <td>0.866667</td>\n",
       "      <td>1</td>\n",
       "    </tr>\n",
       "  </tbody>\n",
       "</table>\n",
       "</div>"
      ],
      "text/plain": [
       "          0         1         2     id  BuilingHeights   \\\n",
       "0  1.653570  0.238571 -0.718234  19664         0.053405   \n",
       "1  0.893369 -2.232212  0.728326  19667         0.017393   \n",
       "2  0.322759 -0.738642  0.541505  19666         0.024183   \n",
       "3 -0.137163  1.585414 -1.291315  19693         0.041310   \n",
       "4  1.619971  3.008713  0.051171  19692         0.139036   \n",
       "\n",
       "   average score buffer_None  \\\n",
       "0                   0.233333   \n",
       "1                   0.466667   \n",
       "2                   0.233333   \n",
       "3                   0.000000   \n",
       "4                   0.000000   \n",
       "\n",
       "   SpaceSyntax_R3000_SpaceSyntax_Intergration_R3000_None     Noise  CLUSTERS  \n",
       "0                                           0.638813      0.866667         1  \n",
       "1                                           0.482647      0.000000         3  \n",
       "2                                           0.586329      0.000000         3  \n",
       "3                                           0.441157      0.866667         2  \n",
       "4                                           0.665412      0.866667         1  "
      ]
     },
     "execution_count": 78,
     "metadata": {},
     "output_type": "execute_result"
    }
   ],
   "source": [
    "df_final.head()"
   ]
  },
  {
   "cell_type": "code",
   "execution_count": 50,
   "metadata": {},
   "outputs": [],
   "source": [
    "df_final.to_csv('FinalResult5.csv', encoding='utf-8', index=False)"
   ]
  },
  {
   "cell_type": "code",
   "execution_count": null,
   "metadata": {},
   "outputs": [],
   "source": []
  }
 ],
 "metadata": {
  "kernelspec": {
   "display_name": "Python 3 (ipykernel)",
   "language": "python",
   "name": "python3"
  },
  "language_info": {
   "codemirror_mode": {
    "name": "ipython",
    "version": 3
   },
   "file_extension": ".py",
   "mimetype": "text/x-python",
   "name": "python",
   "nbconvert_exporter": "python",
   "pygments_lexer": "ipython3",
   "version": "3.11.5"
  }
 },
 "nbformat": 4,
 "nbformat_minor": 4
}
